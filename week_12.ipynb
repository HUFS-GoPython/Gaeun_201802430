{
 "cells": [
  {
   "cell_type": "markdown",
   "metadata": {},
   "source": [
    "## Ch09. 함수 II\n",
    "1. 중첩함수\n",
    "2. 제너레이터\n",
    "3. 재귀함수"
   ]
  },
  {
   "cell_type": "markdown",
   "metadata": {},
   "source": [
    "### 9-1. 중첩함수\n",
    "- 캡슐화 목적\n",
    "    - 변수 범위를 제한할 수 있다. \n",
    "    - 책임, 관리 명확해짐"
   ]
  },
  {
   "cell_type": "code",
   "execution_count": 65,
   "metadata": {},
   "outputs": [
    {
     "data": {
      "text/plain": [
       "4"
      ]
     },
     "execution_count": 65,
     "metadata": {},
     "output_type": "execute_result"
    }
   ],
   "source": [
    "def outer(a, b): # 외부함수 \n",
    "    def inner(c, d): # 내부함수, inner 함수는 밖에서 사용할 수 없음\n",
    "        return c + d # c, d 변수도 이 안에서만 사용\n",
    "    return inner(a, b) # 함수가 반환값이 될 수 있다. \n",
    "\n",
    "outer(2, 2)"
   ]
  },
  {
   "cell_type": "code",
   "execution_count": 66,
   "metadata": {},
   "outputs": [
    {
     "ename": "NameError",
     "evalue": "name 'inner' is not defined",
     "output_type": "error",
     "traceback": [
      "\u001b[1;31m---------------------------------------------------------------------------\u001b[0m",
      "\u001b[1;31mNameError\u001b[0m                                 Traceback (most recent call last)",
      "\u001b[1;32m<ipython-input-66-61fe2d8ed857>\u001b[0m in \u001b[0;36m<module>\u001b[1;34m\u001b[0m\n\u001b[1;32m----> 1\u001b[1;33m \u001b[0minner\u001b[0m\u001b[1;33m(\u001b[0m\u001b[1;36m2\u001b[0m\u001b[1;33m,\u001b[0m \u001b[1;36m2\u001b[0m\u001b[1;33m)\u001b[0m \u001b[1;31m# NameError => 선언한 적 없다. 중첩함수 쓰는 이유(캡슐화와 비슷)\u001b[0m\u001b[1;33m\u001b[0m\u001b[1;33m\u001b[0m\u001b[0m\n\u001b[0m",
      "\u001b[1;31mNameError\u001b[0m: name 'inner' is not defined"
     ]
    }
   ],
   "source": [
    "inner(2, 2) # NameError => 선언한 적 없다. 중첩함수 쓰는 이유(캡슐화와 비슷)"
   ]
  },
  {
   "cell_type": "code",
   "execution_count": 67,
   "metadata": {},
   "outputs": [],
   "source": [
    "def knights(saying):\n",
    "    def inner(quote):\n",
    "        return f'we are the knights who say: {quote}'\n",
    "    return inner(saying)\n",
    "\n",
    "#knights(\"Ni\")\n",
    "case1 = knights('Ni!') # 변수로 받은 것이 의미 있으려면 \n",
    "                       # return inner(saying->이부분이 없어야 함)"
   ]
  },
  {
   "cell_type": "code",
   "execution_count": 68,
   "metadata": {},
   "outputs": [
    {
     "data": {
      "text/plain": [
       "'we are the knights who say: Ni!'"
      ]
     },
     "execution_count": 68,
     "metadata": {},
     "output_type": "execute_result"
    }
   ],
   "source": [
    "case1"
   ]
  },
  {
   "cell_type": "markdown",
   "metadata": {},
   "source": [
    "#### 1) 클로저\n",
    "- 자신을 둘러싼 scope(name space)의 상태값을 기억하는 함수 (아래 코드의 1) 부분)\n",
    "- 메모리 효율적 사용 (함수 호출 시 꺼내쓸 수 있다)\n",
    "    - 호출하기 전까지는 메모리에 올라가지 않음\n",
    "- 조건\n",
    "    - 중첩함수여야 함\n",
    "    - 외부함수의 상태값 참조해야 함\n",
    "    - 외부함수가 내부함수를 반환해야 함"
   ]
  },
  {
   "cell_type": "code",
   "execution_count": 69,
   "metadata": {},
   "outputs": [
    {
     "data": {
      "text/plain": [
       "<function __main__.multiply(x)>"
      ]
     },
     "execution_count": 69,
     "metadata": {},
     "output_type": "execute_result"
    }
   ],
   "source": [
    "# 위 중첩함수와 다른 점: 1) & 2)\n",
    "    # -> 함수의 모습을 다양하게, 함수를 변수로 받음, 함수 재활용 가능\n",
    "\n",
    "def multiply(x):\n",
    "    def inner(y):\n",
    "        return x * y # 1) 외부함수의 인자 참조\n",
    "    return inner     # 2) 함수 실행되기 전 상태를 리턴 (inner(), inner(x); 괄호를 안썼기 때문)\n",
    "\n",
    "multiply # multiply의 반환값은 함수"
   ]
  },
  {
   "cell_type": "code",
   "execution_count": 70,
   "metadata": {},
   "outputs": [],
   "source": [
    "# 2) 밖에서 함수 선언\n",
    "m5 = multiply(5) # x = 5 \n",
    "m6 = multiply(6) # x = 6"
   ]
  },
  {
   "cell_type": "code",
   "execution_count": 71,
   "metadata": {},
   "outputs": [
    {
     "data": {
      "text/plain": [
       "30"
      ]
     },
     "execution_count": 71,
     "metadata": {},
     "output_type": "execute_result"
    }
   ],
   "source": [
    "m5(6)"
   ]
  },
  {
   "cell_type": "markdown",
   "metadata": {},
   "source": [
    "- 메모리가 효율적인 이유"
   ]
  },
  {
   "cell_type": "code",
   "execution_count": 72,
   "metadata": {},
   "outputs": [],
   "source": [
    "del(multiply) # multiply function 삭제"
   ]
  },
  {
   "cell_type": "code",
   "execution_count": 73,
   "metadata": {},
   "outputs": [
    {
     "ename": "NameError",
     "evalue": "name 'multiply' is not defined",
     "output_type": "error",
     "traceback": [
      "\u001b[1;31m---------------------------------------------------------------------------\u001b[0m",
      "\u001b[1;31mNameError\u001b[0m                                 Traceback (most recent call last)",
      "\u001b[1;32m<ipython-input-73-9979242cfbc4>\u001b[0m in \u001b[0;36m<module>\u001b[1;34m\u001b[0m\n\u001b[1;32m----> 1\u001b[1;33m \u001b[0mmultiply\u001b[0m \u001b[1;31m# 삭제되었음\u001b[0m\u001b[1;33m\u001b[0m\u001b[1;33m\u001b[0m\u001b[0m\n\u001b[0m",
      "\u001b[1;31mNameError\u001b[0m: name 'multiply' is not defined"
     ]
    }
   ],
   "source": [
    "multiply # 삭제되었음"
   ]
  },
  {
   "cell_type": "code",
   "execution_count": 74,
   "metadata": {},
   "outputs": [
    {
     "data": {
      "text/plain": [
       "50"
      ]
     },
     "execution_count": 74,
     "metadata": {},
     "output_type": "execute_result"
    }
   ],
   "source": [
    "m5(10) # inner의 상태 계속 유지, 메모리는 안쓰고 있음"
   ]
  },
  {
   "cell_type": "markdown",
   "metadata": {},
   "source": [
    "#### 2) 데코레이터\n",
    "- 메인 함수에 또 다른 함수를 데코레이터로 선언하여 사용할 수 있음\n",
    "- 목적: \n",
    "    - 재사용, 가독성, 직관적임"
   ]
  },
  {
   "cell_type": "code",
   "execution_count": 75,
   "metadata": {},
   "outputs": [],
   "source": [
    "def document_it(func):\n",
    "    def new_func(*args, **kargs):\n",
    "        print('arguments: ', *args)\n",
    "        print('key arguments: ', kargs)\n",
    "        return func(*args, **kargs)\n",
    "    return new_func\n",
    "\n",
    "@document_it\n",
    "def add(a, b):\n",
    "    return a + b\n",
    "\n",
    "@document_it\n",
    "def subtract(a, b):\n",
    "    return a - b\n",
    "\n",
    "@document_it\n",
    "def square(a):\n",
    "    return a**2"
   ]
  },
  {
   "cell_type": "code",
   "execution_count": 76,
   "metadata": {},
   "outputs": [
    {
     "name": "stdout",
     "output_type": "stream",
     "text": [
      "arguments:  3 4\n",
      "key arguments:  {}\n"
     ]
    },
    {
     "data": {
      "text/plain": [
       "7"
      ]
     },
     "execution_count": 76,
     "metadata": {},
     "output_type": "execute_result"
    }
   ],
   "source": [
    "add(3, 4)"
   ]
  },
  {
   "cell_type": "code",
   "execution_count": 77,
   "metadata": {},
   "outputs": [],
   "source": [
    "# add에 활용할 중첩함수 만들기\n",
    "    # 결과값의 제곱값을 반환하는 클로저 함수 만들기\n",
    "    \n",
    "def square(func):\n",
    "    def new_func(*args): # args -> 2개 이상이 들어와도 적용 가능\n",
    "        result = func(*args)\n",
    "        return result * result\n",
    "    return new_func\n",
    "\n",
    "@square\n",
    "def add(a, b):\n",
    "    return a + b"
   ]
  },
  {
   "cell_type": "code",
   "execution_count": 78,
   "metadata": {},
   "outputs": [
    {
     "data": {
      "text/plain": [
       "49"
      ]
     },
     "execution_count": 78,
     "metadata": {},
     "output_type": "execute_result"
    }
   ],
   "source": [
    "add(3, 4)"
   ]
  },
  {
   "cell_type": "markdown",
   "metadata": {},
   "source": [
    "#### 3) scope: global, local, nonlocal\n",
    "- 내부함수는 외부함수의 인자를 \"참조\"만 할 수 있다. (읽기만 가능)\n",
    "- nonlocal 예약어를 사용"
   ]
  },
  {
   "cell_type": "code",
   "execution_count": 79,
   "metadata": {},
   "outputs": [],
   "source": [
    "# 전역(global) \n",
    "def square(func):\n",
    "    # 지역(local)\n",
    "    def new_func(*args):\n",
    "        # 지역 내의 지역?\n",
    "        result = func(*args)\n",
    "        return result * result\n",
    "    return new_func"
   ]
  },
  {
   "cell_type": "code",
   "execution_count": 80,
   "metadata": {},
   "outputs": [
    {
     "data": {
      "text/plain": [
       "1000"
      ]
     },
     "execution_count": 80,
     "metadata": {},
     "output_type": "execute_result"
    }
   ],
   "source": [
    "z = 3 # 전역변수\n",
    "def outer(x): # x값 \"참조\": x 출력이나 반환 가능하지만 연산을 할 수는 없다. \n",
    "    y = 4 # 지역변수\n",
    "    def inner():\n",
    "        # 여기선 x = 10\n",
    "        x = 1000 \n",
    "        return x # 여기선 1000\n",
    "    #return x -> outer(10) = 10\n",
    "    return inner()\n",
    "    \n",
    "outer(10)"
   ]
  },
  {
   "cell_type": "code",
   "execution_count": 81,
   "metadata": {},
   "outputs": [
    {
     "data": {
      "text/plain": [
       "11"
      ]
     },
     "execution_count": 81,
     "metadata": {},
     "output_type": "execute_result"
    }
   ],
   "source": [
    "z = 3 \n",
    "def outer(x): \n",
    "    y = 4 \n",
    "    def inner():\n",
    "        # 지정안하면 (UnboundLocalError: local variable 'x' referenced before assignment)\n",
    "        nonlocal x \n",
    "        # 가장 가까운 지역에 있는 변수를 제일 먼저 인식 (전역/외부함수/내부함수 3개의 지역)\n",
    "        # 이 x가 outer(x)의 x 지칭.\n",
    "        x += 1 \n",
    "        return x # 여기선 1000\n",
    "    return inner()\n",
    "    \n",
    "outer(10)"
   ]
  },
  {
   "cell_type": "code",
   "execution_count": 82,
   "metadata": {},
   "outputs": [],
   "source": [
    "def my_func(nums:list): # 가변인자 -> 리턴 없이도 리턴 얻음\n",
    "    # 가변인자(ex.list)를 하는 것 지양\n",
    "    # 꼭 필요하다면 문서화 => 사용자가 알 수 있게\n",
    "    nums.append(sum(nums))\n",
    "    \n",
    "a = [1, 2, 3]\n",
    "my_func(a)"
   ]
  },
  {
   "cell_type": "code",
   "execution_count": 83,
   "metadata": {},
   "outputs": [],
   "source": [
    "my_func(a)\n",
    "my_func(a)\n",
    "my_func(a)"
   ]
  },
  {
   "cell_type": "code",
   "execution_count": 84,
   "metadata": {},
   "outputs": [
    {
     "data": {
      "text/plain": [
       "[1, 2, 3, 6, 12, 24, 48]"
      ]
     },
     "execution_count": 84,
     "metadata": {},
     "output_type": "execute_result"
    }
   ],
   "source": [
    "a"
   ]
  },
  {
   "cell_type": "markdown",
   "metadata": {},
   "source": [
    "#### <실습>\n",
    "1. 함수 : 차 속도, 제한 속도를 비교해서 true/false 반환\n",
    "\n",
    "2. 데코레이터 함수\n",
    "- 함수를 얹을 중첩함수\n",
    "- 만약 제한 속도를 초과했다면 얼마나 초과했는지 프린트하는 함수\n",
    "- 예: 100, 80\n",
    "- \"20 km/h 초과\"\n"
   ]
  },
  {
   "cell_type": "code",
   "execution_count": 87,
   "metadata": {},
   "outputs": [],
   "source": [
    "# 내 코드\n",
    "def excess(func):\n",
    "    def new_func(*args):\n",
    "        if not func(*args):\n",
    "            return f'{args[0]-args[1]} km/h 초과'\n",
    "        else:\n",
    "            return f'제한 속도 준수'\n",
    "    return new_func\n",
    "\n",
    "@excess\n",
    "def compare(a, b):\n",
    "    return a < b"
   ]
  },
  {
   "cell_type": "code",
   "execution_count": 86,
   "metadata": {},
   "outputs": [
    {
     "data": {
      "text/plain": [
       "'제한 속도 준수'"
      ]
     },
     "execution_count": 86,
     "metadata": {},
     "output_type": "execute_result"
    }
   ],
   "source": [
    "compare(70, 80)"
   ]
  },
  {
   "cell_type": "code",
   "execution_count": 88,
   "metadata": {},
   "outputs": [],
   "source": [
    "# 모범 코드\n",
    "def calc_speed(func):\n",
    "    def inner(speed, limit):\n",
    "        if func(speed, limit):\n",
    "            return f'초과 속도: {speed - limit} km/h'\n",
    "        else:\n",
    "            return f'정상 속도'\n",
    "    return inner"
   ]
  },
  {
   "cell_type": "code",
   "execution_count": 89,
   "metadata": {},
   "outputs": [
    {
     "data": {
      "text/plain": [
       "'초과 속도: 20 km/h'"
      ]
     },
     "execution_count": 89,
     "metadata": {},
     "output_type": "execute_result"
    }
   ],
   "source": [
    "@calc_speed\n",
    "def is_speeding(speed, limit):\n",
    "    return speed > limit\n",
    "\n",
    "is_speeding(100, 80)"
   ]
  },
  {
   "cell_type": "markdown",
   "metadata": {},
   "source": [
    "### 9-2. 제너레이터\n",
    "- return -> yield\n",
    "- 순회의 리턴값을 하나씩 반환\n",
    "- 시퀀스를 생성하는 객체\n",
    "- 메모리 효율성 증대\n",
    "    - 한번 사용되고 메모리에서 사라짐"
   ]
  },
  {
   "cell_type": "code",
   "execution_count": null,
   "metadata": {},
   "outputs": [],
   "source": [
    "# 형태\n",
    "def ...():\n",
    "    for i in range(5):\n",
    "        yield i"
   ]
  },
  {
   "cell_type": "code",
   "execution_count": 91,
   "metadata": {},
   "outputs": [],
   "source": [
    "names = 'Kevin Michael Juliette Laura'.split()\n",
    "\n",
    "def printing(name_list:list):\n",
    "    for name in name_list:\n",
    "        yield name\n",
    "        \n",
    "name_list = printing(names)"
   ]
  },
  {
   "cell_type": "code",
   "execution_count": 92,
   "metadata": {},
   "outputs": [
    {
     "name": "stdout",
     "output_type": "stream",
     "text": [
      "Kevin\n",
      "Michael\n",
      "Juliette\n",
      "Laura\n"
     ]
    }
   ],
   "source": [
    "for i in printing(names):\n",
    "    print(i)"
   ]
  },
  {
   "cell_type": "code",
   "execution_count": 93,
   "metadata": {},
   "outputs": [
    {
     "name": "stdout",
     "output_type": "stream",
     "text": [
      "Kevin\n",
      "Michael\n",
      "Juliette\n",
      "Laura\n"
     ]
    }
   ],
   "source": [
    "# 한번만 쓸 수 있다.\n",
    "for i in name_list:\n",
    "    print(i)"
   ]
  },
  {
   "cell_type": "markdown",
   "metadata": {},
   "source": [
    "#### <실습: range 함수 구현하기>\n",
    "`\n",
    "def my_range(start, end, step):\n",
    "    # 작성하기\n",
    "    yield\n",
    "`"
   ]
  },
  {
   "cell_type": "code",
   "execution_count": 95,
   "metadata": {},
   "outputs": [],
   "source": [
    "def my_range(start, end, step=1):\n",
    "    while start < end:\n",
    "        yield start\n",
    "        start += step\n",
    "\n",
    "ranger = my_range(1, 10, 2)"
   ]
  },
  {
   "cell_type": "markdown",
   "metadata": {},
   "source": [
    "- list comprehension으로도 generator 구현 가능\n",
    "    - generator 이용하면 메모리 효율적 사용\n",
    "    - ex. list comprehension을 사용해서 loop 돌고 싶은데 한번만 사용하면 되는 경우"
   ]
  },
  {
   "cell_type": "code",
   "execution_count": 98,
   "metadata": {},
   "outputs": [],
   "source": [
    "ranger = (i for i in range(10)) "
   ]
  },
  {
   "cell_type": "code",
   "execution_count": 99,
   "metadata": {},
   "outputs": [
    {
     "name": "stdout",
     "output_type": "stream",
     "text": [
      "K0\n",
      "K1\n",
      "K2\n",
      "K3\n",
      "K4\n",
      "K5\n",
      "K6\n",
      "K7\n",
      "K8\n",
      "K9\n"
     ]
    }
   ],
   "source": [
    "for i in ranger:\n",
    "    print(f'K{i}')"
   ]
  },
  {
   "cell_type": "markdown",
   "metadata": {},
   "source": [
    "### 9-3. 재귀함수\n",
    "- 자기 자신을 호출하는 함수\n",
    "- 재귀가 너무 깊어지면 예외 발생(runtime error)\n",
    "- text normalize할 때,\n",
    "  [[a, b], [[a, b, c], b], b, c]] \n",
    "  => 모든 요소의 차원을 단일화시킬 때 \n",
    "  [a, b, a, b, c,...]"
   ]
  },
  {
   "cell_type": "code",
   "execution_count": 100,
   "metadata": {},
   "outputs": [
    {
     "data": {
      "text/plain": [
       "<generator object flatten at 0x000001E637885D48>"
      ]
     },
     "execution_count": 100,
     "metadata": {},
     "output_type": "execute_result"
    }
   ],
   "source": [
    "def flatten(sent):\n",
    "    for word in sent:\n",
    "        if isinstance(word, list):\n",
    "            # 리스트가 맞다\n",
    "            for sub_word in flatten(word): # 재귀함수 사용\n",
    "                yield sub_word\n",
    "            # yield from flatten(word) # 위 두줄; python 3.3 이상이면 재귀함수 이렇게 사용가능 \n",
    "        else:\n",
    "            yield word\n",
    "            \n",
    "a = [1, 2, [2, 3, 4], [[[1, 2]]]]\n",
    "flatten(a)"
   ]
  },
  {
   "cell_type": "code",
   "execution_count": 101,
   "metadata": {},
   "outputs": [
    {
     "data": {
      "text/plain": [
       "False"
      ]
     },
     "execution_count": 101,
     "metadata": {},
     "output_type": "execute_result"
    }
   ],
   "source": [
    "# 첫번째 인자의 타입을 물어보는 함수\n",
    "isinstance('word', int)"
   ]
  },
  {
   "cell_type": "code",
   "execution_count": 102,
   "metadata": {},
   "outputs": [
    {
     "name": "stdout",
     "output_type": "stream",
     "text": [
      "1\n",
      "2\n",
      "2\n",
      "3\n",
      "4\n",
      "1\n",
      "2\n"
     ]
    }
   ],
   "source": [
    "for i in flatten(a):\n",
    "    print(i)"
   ]
  },
  {
   "cell_type": "markdown",
   "metadata": {},
   "source": [
    "### 9-4. 예외처리 | exception handling\n",
    "- 프로그램 동작 중 예외가 발생했을 때 대처하기 위함\n",
    "- 사용자에게 예외를 알리고, 원하는 조치를 설정한다.\n",
    "- 프로그램이 정상적으로 종료가 될 수 있다.\n",
    "- 에러가 여러개일 때는 각각의 에러에 따라 적어줌"
   ]
  },
  {
   "cell_type": "code",
   "execution_count": 9,
   "metadata": {},
   "outputs": [
    {
     "name": "stdout",
     "output_type": "stream",
     "text": [
      "0으로 나눌 수 없음\n"
     ]
    }
   ],
   "source": [
    "try: \n",
    "    # 예외가 발생할 수도 있는 코드 블럭\n",
    "    5/0\n",
    "except ZeroDivisionError:\n",
    "    # 예외 시 행할 행동\n",
    "    print('0으로 나눌 수 없음')"
   ]
  },
  {
   "cell_type": "code",
   "execution_count": 16,
   "metadata": {},
   "outputs": [
    {
     "name": "stdout",
     "output_type": "stream",
     "text": [
      "0으로 나눌 수 없음\n",
      "10.0\n",
      "5.0\n",
      "3.3333333333333335\n",
      "2.5\n",
      "2.0\n",
      "1.6666666666666667\n",
      "1.4285714285714286\n",
      "1.25\n",
      "1.1111111111111112\n"
     ]
    }
   ],
   "source": [
    "for i in range(10):\n",
    "    try:\n",
    "        print(10 / i)\n",
    "    # 나누기가 안되는 부분에서만 exception\n",
    "    except ZeroDivisionError:\n",
    "        print('0으로 나눌 수 없음')"
   ]
  },
  {
   "cell_type": "markdown",
   "metadata": {},
   "source": [
    "#### 1) 예외의 종류"
   ]
  },
  {
   "cell_type": "code",
   "execution_count": 11,
   "metadata": {},
   "outputs": [
    {
     "ename": "ZeroDivisionError",
     "evalue": "division by zero",
     "output_type": "error",
     "traceback": [
      "\u001b[1;31m---------------------------------------------------------------------------\u001b[0m",
      "\u001b[1;31mZeroDivisionError\u001b[0m                         Traceback (most recent call last)",
      "\u001b[1;32m<ipython-input-11-adafc2937013>\u001b[0m in \u001b[0;36m<module>\u001b[1;34m\u001b[0m\n\u001b[1;32m----> 1\u001b[1;33m \u001b[1;36m5\u001b[0m \u001b[1;33m/\u001b[0m \u001b[1;36m0\u001b[0m\u001b[1;33m\u001b[0m\u001b[1;33m\u001b[0m\u001b[0m\n\u001b[0m",
      "\u001b[1;31mZeroDivisionError\u001b[0m: division by zero"
     ]
    }
   ],
   "source": [
    "5 / 0"
   ]
  },
  {
   "cell_type": "code",
   "execution_count": 12,
   "metadata": {},
   "outputs": [
    {
     "ename": "IndexError",
     "evalue": "list index out of range",
     "output_type": "error",
     "traceback": [
      "\u001b[1;31m---------------------------------------------------------------------------\u001b[0m",
      "\u001b[1;31mIndexError\u001b[0m                                Traceback (most recent call last)",
      "\u001b[1;32m<ipython-input-12-70fa385a413f>\u001b[0m in \u001b[0;36m<module>\u001b[1;34m\u001b[0m\n\u001b[0;32m      1\u001b[0m \u001b[0ma\u001b[0m \u001b[1;33m=\u001b[0m \u001b[1;33m[\u001b[0m\u001b[1;36m1\u001b[0m\u001b[1;33m,\u001b[0m \u001b[1;36m2\u001b[0m\u001b[1;33m,\u001b[0m \u001b[1;36m3\u001b[0m\u001b[1;33m]\u001b[0m\u001b[1;33m\u001b[0m\u001b[1;33m\u001b[0m\u001b[0m\n\u001b[1;32m----> 2\u001b[1;33m \u001b[0ma\u001b[0m\u001b[1;33m[\u001b[0m\u001b[1;36m5\u001b[0m\u001b[1;33m]\u001b[0m\u001b[1;33m\u001b[0m\u001b[1;33m\u001b[0m\u001b[0m\n\u001b[0m",
      "\u001b[1;31mIndexError\u001b[0m: list index out of range"
     ]
    }
   ],
   "source": [
    "a = [1, 2, 3]\n",
    "a[5]"
   ]
  },
  {
   "cell_type": "code",
   "execution_count": 13,
   "metadata": {},
   "outputs": [
    {
     "ename": "ValueError",
     "evalue": "invalid literal for int() with base 10: 'hello'",
     "output_type": "error",
     "traceback": [
      "\u001b[1;31m---------------------------------------------------------------------------\u001b[0m",
      "\u001b[1;31mValueError\u001b[0m                                Traceback (most recent call last)",
      "\u001b[1;32m<ipython-input-13-1e0cfe654e81>\u001b[0m in \u001b[0;36m<module>\u001b[1;34m\u001b[0m\n\u001b[1;32m----> 1\u001b[1;33m \u001b[0mint\u001b[0m\u001b[1;33m(\u001b[0m\u001b[1;34m'hello'\u001b[0m\u001b[1;33m)\u001b[0m\u001b[1;33m\u001b[0m\u001b[1;33m\u001b[0m\u001b[0m\n\u001b[0m",
      "\u001b[1;31mValueError\u001b[0m: invalid literal for int() with base 10: 'hello'"
     ]
    }
   ],
   "source": [
    "int('hello')"
   ]
  },
  {
   "cell_type": "code",
   "execution_count": 14,
   "metadata": {},
   "outputs": [
    {
     "ename": "NameError",
     "evalue": "name 'k' is not defined",
     "output_type": "error",
     "traceback": [
      "\u001b[1;31m---------------------------------------------------------------------------\u001b[0m",
      "\u001b[1;31mNameError\u001b[0m                                 Traceback (most recent call last)",
      "\u001b[1;32m<ipython-input-14-c016724a07cb>\u001b[0m in \u001b[0;36m<module>\u001b[1;34m\u001b[0m\n\u001b[1;32m----> 1\u001b[1;33m \u001b[0mk\u001b[0m \u001b[1;33m+=\u001b[0m \u001b[1;36m1\u001b[0m\u001b[1;33m\u001b[0m\u001b[1;33m\u001b[0m\u001b[0m\n\u001b[0m",
      "\u001b[1;31mNameError\u001b[0m: name 'k' is not defined"
     ]
    }
   ],
   "source": [
    "k += 1"
   ]
  },
  {
   "cell_type": "code",
   "execution_count": 18,
   "metadata": {},
   "outputs": [
    {
     "name": "stdin",
     "output_type": "stream",
     "text": [
      "인덱스를 입력하세요>>  1\n"
     ]
    },
    {
     "name": "stdout",
     "output_type": "stream",
     "text": [
      "e\n"
     ]
    },
    {
     "name": "stdin",
     "output_type": "stream",
     "text": [
      "인덱스를 입력하세요>>  8\n"
     ]
    },
    {
     "name": "stdout",
     "output_type": "stream",
     "text": [
      "string index out of range\n"
     ]
    },
    {
     "name": "stdin",
     "output_type": "stream",
     "text": [
      "인덱스를 입력하세요>>  h\n"
     ]
    },
    {
     "name": "stdout",
     "output_type": "stream",
     "text": [
      "invalid literal for int() with base 10: 'h'\n"
     ]
    },
    {
     "name": "stdin",
     "output_type": "stream",
     "text": [
      "인덱스를 입력하세요>>  q\n"
     ]
    }
   ],
   "source": [
    "word = 'hello'\n",
    "\n",
    "while True:\n",
    "    index = input('인덱스를 입력하세요>> ')\n",
    "    if index == 'q':\n",
    "        break\n",
    "    try: \n",
    "        index = int(index) # ValueError, IndexError\n",
    "        print(word[index])\n",
    "    except ValueError as e1: # 예외 핸들러\n",
    "        print(e1) # 에러 메시지\n",
    "    except IndexError as e2:\n",
    "        print(e2)"
   ]
  },
  {
   "cell_type": "markdown",
   "metadata": {},
   "source": [
    "#### 2) 예외 일으키기\n",
    "- 프로그램을 강제 종료시키기 위해 사용함\n",
    "- raise, assert(내가 원하는 조건을 보장해라! 주로 definition에서 많이 사용)\n",
    "- AssertionError"
   ]
  },
  {
   "cell_type": "code",
   "execution_count": null,
   "metadata": {},
   "outputs": [],
   "source": [
    "# 형태\n",
    "raise 예외타입(메시지)"
   ]
  },
  {
   "cell_type": "code",
   "execution_count": 19,
   "metadata": {},
   "outputs": [
    {
     "name": "stdin",
     "output_type": "stream",
     "text": [
      "숫자>>  2\n"
     ]
    },
    {
     "name": "stdout",
     "output_type": "stream",
     "text": [
      "7\n"
     ]
    },
    {
     "name": "stdin",
     "output_type": "stream",
     "text": [
      "숫자>>  n\n"
     ]
    },
    {
     "ename": "ValueError",
     "evalue": "숫자가 아닙니다!",
     "output_type": "error",
     "traceback": [
      "\u001b[1;31m---------------------------------------------------------------------------\u001b[0m",
      "\u001b[1;31mValueError\u001b[0m                                Traceback (most recent call last)",
      "\u001b[1;32m<ipython-input-19-e31152d6c31b>\u001b[0m in \u001b[0;36m<module>\u001b[1;34m\u001b[0m\n\u001b[0;32m      2\u001b[0m     \u001b[0mnum\u001b[0m \u001b[1;33m=\u001b[0m \u001b[0minput\u001b[0m\u001b[1;33m(\u001b[0m\u001b[1;34m'숫자>> '\u001b[0m\u001b[1;33m)\u001b[0m\u001b[1;33m\u001b[0m\u001b[1;33m\u001b[0m\u001b[0m\n\u001b[0;32m      3\u001b[0m     \u001b[1;32mif\u001b[0m \u001b[1;32mnot\u001b[0m \u001b[0mnum\u001b[0m\u001b[1;33m.\u001b[0m\u001b[0misdigit\u001b[0m\u001b[1;33m(\u001b[0m\u001b[1;33m)\u001b[0m\u001b[1;33m:\u001b[0m\u001b[1;33m\u001b[0m\u001b[1;33m\u001b[0m\u001b[0m\n\u001b[1;32m----> 4\u001b[1;33m         \u001b[1;32mraise\u001b[0m \u001b[0mValueError\u001b[0m\u001b[1;33m(\u001b[0m\u001b[1;34m'숫자가 아닙니다!'\u001b[0m\u001b[1;33m)\u001b[0m\u001b[1;33m\u001b[0m\u001b[1;33m\u001b[0m\u001b[0m\n\u001b[0m\u001b[0;32m      5\u001b[0m     \u001b[1;32melse\u001b[0m\u001b[1;33m:\u001b[0m\u001b[1;33m\u001b[0m\u001b[1;33m\u001b[0m\u001b[0m\n\u001b[0;32m      6\u001b[0m         \u001b[0mprint\u001b[0m\u001b[1;33m(\u001b[0m\u001b[0mint\u001b[0m\u001b[1;33m(\u001b[0m\u001b[0mnum\u001b[0m\u001b[1;33m)\u001b[0m \u001b[1;33m+\u001b[0m \u001b[1;36m5\u001b[0m\u001b[1;33m)\u001b[0m\u001b[1;33m\u001b[0m\u001b[1;33m\u001b[0m\u001b[0m\n",
      "\u001b[1;31mValueError\u001b[0m: 숫자가 아닙니다!"
     ]
    }
   ],
   "source": [
    "while True:\n",
    "    num = input('숫자>> ')\n",
    "    if not num.isdigit():\n",
    "        raise ValueError('숫자가 아닙니다!')\n",
    "    else:\n",
    "        print(int(num) + 5)"
   ]
  },
  {
   "cell_type": "code",
   "execution_count": null,
   "metadata": {},
   "outputs": [],
   "source": [
    "assert <참인 조건>, <False일 경우 내보낼 메시지>"
   ]
  },
  {
   "cell_type": "code",
   "execution_count": 20,
   "metadata": {},
   "outputs": [
    {
     "ename": "AssertionError",
     "evalue": "정수 아님",
     "output_type": "error",
     "traceback": [
      "\u001b[1;31m---------------------------------------------------------------------------\u001b[0m",
      "\u001b[1;31mAssertionError\u001b[0m                            Traceback (most recent call last)",
      "\u001b[1;32m<ipython-input-20-df399d61112c>\u001b[0m in \u001b[0;36m<module>\u001b[1;34m\u001b[0m\n\u001b[0;32m      4\u001b[0m     \u001b[1;32mreturn\u001b[0m \u001b[0mbin\u001b[0m\u001b[1;33m(\u001b[0m\u001b[0mnum\u001b[0m\u001b[1;33m)\u001b[0m\u001b[1;33m\u001b[0m\u001b[1;33m\u001b[0m\u001b[0m\n\u001b[0;32m      5\u001b[0m \u001b[1;33m\u001b[0m\u001b[0m\n\u001b[1;32m----> 6\u001b[1;33m \u001b[0mget_binary\u001b[0m\u001b[1;33m(\u001b[0m\u001b[1;34m'10'\u001b[0m\u001b[1;33m)\u001b[0m\u001b[1;33m\u001b[0m\u001b[1;33m\u001b[0m\u001b[0m\n\u001b[0m",
      "\u001b[1;32m<ipython-input-20-df399d61112c>\u001b[0m in \u001b[0;36mget_binary\u001b[1;34m(num)\u001b[0m\n\u001b[0;32m      1\u001b[0m \u001b[1;31m# assertion으로 코드 길이 축소\u001b[0m\u001b[1;33m\u001b[0m\u001b[1;33m\u001b[0m\u001b[1;33m\u001b[0m\u001b[0m\n\u001b[0;32m      2\u001b[0m \u001b[1;32mdef\u001b[0m \u001b[0mget_binary\u001b[0m\u001b[1;33m(\u001b[0m\u001b[0mnum\u001b[0m\u001b[1;33m)\u001b[0m\u001b[1;33m:\u001b[0m\u001b[1;33m\u001b[0m\u001b[1;33m\u001b[0m\u001b[0m\n\u001b[1;32m----> 3\u001b[1;33m     \u001b[1;32massert\u001b[0m \u001b[0misinstance\u001b[0m\u001b[1;33m(\u001b[0m\u001b[0mnum\u001b[0m\u001b[1;33m,\u001b[0m \u001b[0mint\u001b[0m\u001b[1;33m)\u001b[0m\u001b[1;33m,\u001b[0m \u001b[1;34m'정수 아님'\u001b[0m\u001b[1;33m\u001b[0m\u001b[1;33m\u001b[0m\u001b[0m\n\u001b[0m\u001b[0;32m      4\u001b[0m     \u001b[1;32mreturn\u001b[0m \u001b[0mbin\u001b[0m\u001b[1;33m(\u001b[0m\u001b[0mnum\u001b[0m\u001b[1;33m)\u001b[0m\u001b[1;33m\u001b[0m\u001b[1;33m\u001b[0m\u001b[0m\n\u001b[0;32m      5\u001b[0m \u001b[1;33m\u001b[0m\u001b[0m\n",
      "\u001b[1;31mAssertionError\u001b[0m: 정수 아님"
     ]
    }
   ],
   "source": [
    "# assertion으로 코드 길이 축소\n",
    "def get_binary(num):\n",
    "    assert isinstance(num, int), '정수 아님'\n",
    "    return bin(num)\n",
    "\n",
    "get_binary('10')"
   ]
  },
  {
   "cell_type": "markdown",
   "metadata": {},
   "source": [
    "#### 3) 사용자 정의 예외 타입\n",
    "- 내가 원하는 에러(정해진 에러 외에도)\n",
    "- class 선언, Exception 클래스를 상속 받는다. "
   ]
  },
  {
   "cell_type": "code",
   "execution_count": 35,
   "metadata": {},
   "outputs": [],
   "source": [
    "class MyException(Exception):\n",
    "    pass"
   ]
  },
  {
   "cell_type": "code",
   "execution_count": 36,
   "metadata": {},
   "outputs": [
    {
     "name": "stdout",
     "output_type": "stream",
     "text": [
      "dublin\n",
      "newyork\n",
      "seoul\n"
     ]
    },
    {
     "ename": "MyException",
     "evalue": "대문자 안됨",
     "output_type": "error",
     "traceback": [
      "\u001b[1;31m---------------------------------------------------------------------------\u001b[0m",
      "\u001b[1;31mMyException\u001b[0m                               Traceback (most recent call last)",
      "\u001b[1;32m<ipython-input-36-9615c8044668>\u001b[0m in \u001b[0;36m<module>\u001b[1;34m\u001b[0m\n\u001b[0;32m      3\u001b[0m \u001b[1;32mfor\u001b[0m \u001b[0mcity\u001b[0m \u001b[1;32min\u001b[0m \u001b[0mcities\u001b[0m\u001b[1;33m:\u001b[0m\u001b[1;33m\u001b[0m\u001b[1;33m\u001b[0m\u001b[0m\n\u001b[0;32m      4\u001b[0m     \u001b[1;32mif\u001b[0m \u001b[0mcity\u001b[0m\u001b[1;33m.\u001b[0m\u001b[0misupper\u001b[0m\u001b[1;33m(\u001b[0m\u001b[1;33m)\u001b[0m\u001b[1;33m:\u001b[0m\u001b[1;33m\u001b[0m\u001b[1;33m\u001b[0m\u001b[0m\n\u001b[1;32m----> 5\u001b[1;33m         \u001b[1;32mraise\u001b[0m \u001b[0mMyException\u001b[0m\u001b[1;33m(\u001b[0m\u001b[1;34m'대문자 안됨'\u001b[0m\u001b[1;33m)\u001b[0m\u001b[1;33m\u001b[0m\u001b[1;33m\u001b[0m\u001b[0m\n\u001b[0m\u001b[0;32m      6\u001b[0m     \u001b[1;32melse\u001b[0m\u001b[1;33m:\u001b[0m\u001b[1;33m\u001b[0m\u001b[1;33m\u001b[0m\u001b[0m\n\u001b[0;32m      7\u001b[0m         \u001b[0mprint\u001b[0m\u001b[1;33m(\u001b[0m\u001b[0mcity\u001b[0m\u001b[1;33m)\u001b[0m\u001b[1;33m\u001b[0m\u001b[1;33m\u001b[0m\u001b[0m\n",
      "\u001b[1;31mMyException\u001b[0m: 대문자 안됨"
     ]
    }
   ],
   "source": [
    "cities = 'dublin newyork seoul TOKYO'.split()\n",
    "\n",
    "for city in cities:\n",
    "    if city.isupper():\n",
    "        raise MyException('대문자 안됨')\n",
    "    else: \n",
    "        print(city)"
   ]
  },
  {
   "cell_type": "code",
   "execution_count": 37,
   "metadata": {},
   "outputs": [],
   "source": [
    "# 생성자에 접근해서 수정\n",
    "class UppercaseException(Exception):\n",
    "    def __init__(self):\n",
    "        super().__init__('대문자 안된다구')"
   ]
  },
  {
   "cell_type": "code",
   "execution_count": 38,
   "metadata": {},
   "outputs": [
    {
     "name": "stdout",
     "output_type": "stream",
     "text": [
      "dublin\n",
      "newyork\n",
      "seoul\n"
     ]
    },
    {
     "ename": "UppercaseException",
     "evalue": "대문자 안된다구",
     "output_type": "error",
     "traceback": [
      "\u001b[1;31m---------------------------------------------------------------------------\u001b[0m",
      "\u001b[1;31mUppercaseException\u001b[0m                        Traceback (most recent call last)",
      "\u001b[1;32m<ipython-input-38-b53903f1e0dc>\u001b[0m in \u001b[0;36m<module>\u001b[1;34m\u001b[0m\n\u001b[0;32m      3\u001b[0m \u001b[1;32mfor\u001b[0m \u001b[0mcity\u001b[0m \u001b[1;32min\u001b[0m \u001b[0mcities\u001b[0m\u001b[1;33m:\u001b[0m\u001b[1;33m\u001b[0m\u001b[1;33m\u001b[0m\u001b[0m\n\u001b[0;32m      4\u001b[0m     \u001b[1;32mif\u001b[0m \u001b[0mcity\u001b[0m\u001b[1;33m.\u001b[0m\u001b[0misupper\u001b[0m\u001b[1;33m(\u001b[0m\u001b[1;33m)\u001b[0m\u001b[1;33m:\u001b[0m\u001b[1;33m\u001b[0m\u001b[1;33m\u001b[0m\u001b[0m\n\u001b[1;32m----> 5\u001b[1;33m         \u001b[1;32mraise\u001b[0m \u001b[0mUppercaseException\u001b[0m\u001b[1;33m\u001b[0m\u001b[1;33m\u001b[0m\u001b[0m\n\u001b[0m\u001b[0;32m      6\u001b[0m     \u001b[1;32melse\u001b[0m\u001b[1;33m:\u001b[0m\u001b[1;33m\u001b[0m\u001b[1;33m\u001b[0m\u001b[0m\n\u001b[0;32m      7\u001b[0m         \u001b[0mprint\u001b[0m\u001b[1;33m(\u001b[0m\u001b[0mcity\u001b[0m\u001b[1;33m)\u001b[0m\u001b[1;33m\u001b[0m\u001b[1;33m\u001b[0m\u001b[0m\n",
      "\u001b[1;31mUppercaseException\u001b[0m: 대문자 안된다구"
     ]
    }
   ],
   "source": [
    "cities = 'dublin newyork seoul TOKYO'.split()\n",
    "\n",
    "for city in cities:\n",
    "    if city.isupper():\n",
    "        raise UppercaseException\n",
    "    else: \n",
    "        print(city)"
   ]
  }
 ],
 "metadata": {
  "kernelspec": {
   "display_name": "Python 3",
   "language": "python",
   "name": "python3"
  },
  "language_info": {
   "codemirror_mode": {
    "name": "ipython",
    "version": 3
   },
   "file_extension": ".py",
   "mimetype": "text/x-python",
   "name": "python",
   "nbconvert_exporter": "python",
   "pygments_lexer": "ipython3",
   "version": "3.7.6"
  }
 },
 "nbformat": 4,
 "nbformat_minor": 4
}
