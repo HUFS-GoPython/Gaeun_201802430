{
 "cells": [
  {
   "cell_type": "markdown",
   "metadata": {},
   "source": [
    "## Ch04. if 조건문"
   ]
  },
  {
   "cell_type": "markdown",
   "metadata": {},
   "source": [
    "### 4-4 중첩조건문\n",
    "- nested conditional\n",
    "- if 블록 안에 또 다른 if 블록이 있는 경우\n",
    "- 들여쓰기로 논리를 구분한다."
   ]
  },
  {
   "cell_type": "code",
   "execution_count": 41,
   "metadata": {},
   "outputs": [
    {
     "name": "stdout",
     "output_type": "stream",
     "text": [
      "Block B\n"
     ]
    }
   ],
   "source": [
    "# 안 좋은 예 1)\n",
    "x = 0\n",
    "y = 1\n",
    "if x == y:\n",
    "    print(\"Block A\")\n",
    "else:\n",
    "    if x < y:\n",
    "        print(\"Block B\")\n",
    "    else: \n",
    "        print(\"Block C\")"
   ]
  },
  {
   "cell_type": "code",
   "execution_count": 2,
   "metadata": {},
   "outputs": [
    {
     "name": "stdout",
     "output_type": "stream",
     "text": [
      "Block C\n"
     ]
    }
   ],
   "source": [
    "# 안 좋은 예2) 중첩조건문이 가능은 하지만 지양(보기 안좋음)\n",
    "# 0 < x < 10\n",
    "\n",
    "if x > 0:\n",
    "    if x < 10:\n",
    "        print(\"Block A\")\n",
    "    else: \n",
    "        print(\"Block B\")\n",
    "else:\n",
    "    print(\"Block C\")"
   ]
  },
  {
   "cell_type": "code",
   "execution_count": 3,
   "metadata": {},
   "outputs": [
    {
     "ename": "IndentationError",
     "evalue": "expected an indented block (<ipython-input-3-c1c7c19709d4>, line 3)",
     "output_type": "error",
     "traceback": [
      "\u001b[1;36m  File \u001b[1;32m\"<ipython-input-3-c1c7c19709d4>\"\u001b[1;36m, line \u001b[1;32m3\u001b[0m\n\u001b[1;33m    elif x < y:\u001b[0m\n\u001b[1;37m       ^\u001b[0m\n\u001b[1;31mIndentationError\u001b[0m\u001b[1;31m:\u001b[0m expected an indented block\n"
     ]
    }
   ],
   "source": [
    "if x == y:\n",
    "    # block a\n",
    "elif x < y:\n",
    "    # block b\n",
    "else:\n",
    "    # block c"
   ]
  },
  {
   "cell_type": "code",
   "execution_count": 4,
   "metadata": {},
   "outputs": [
    {
     "ename": "IndentationError",
     "evalue": "expected an indented block (<ipython-input-4-b77bed8fb485>, line 4)",
     "output_type": "error",
     "traceback": [
      "\u001b[1;36m  File \u001b[1;32m\"<ipython-input-4-b77bed8fb485>\"\u001b[1;36m, line \u001b[1;32m4\u001b[0m\n\u001b[1;33m    else:\u001b[0m\n\u001b[1;37m       ^\u001b[0m\n\u001b[1;31mIndentationError\u001b[0m\u001b[1;31m:\u001b[0m expected an indented block\n"
     ]
    }
   ],
   "source": [
    "# 방법1: 논리연산자 사용\n",
    "if (x > 0) and (x < 10): # 괄호는 해도 안해도 됨(하는게 가독성 굿)\n",
    "    # block a\n",
    "else: \n",
    "    # block b\n",
    "    \n",
    "# 방법2: 파이썬에서만 가능\n",
    "if 0 < x < 10:\n",
    "    # block a\n",
    "else: \n",
    "    # block b\n",
    "    \n",
    "# 중첩조건문은 웬만하면 다른 방법으로, 어쩔 수 없을 때만 사용"
   ]
  },
  {
   "cell_type": "markdown",
   "metadata": {},
   "source": [
    "### 4-5 논리연산자\n",
    "- 비교연산자가 여러번 사용될 때 사용하는 것\n",
    "- and, or, not\n",
    "    - A and B: A도 참이고, B도 참일 때 True\n",
    "        - 예: A & B\n",
    "    - A or B: A 혹은 B, 둘 중 하나만 참이면 True\n",
    "        - 예: A | B\n",
    "    - not A: A가 False -> True, True -> False\n",
    "- 비교연산자의 괄호는 가독성을 위해 (optional)\n",
    "- 파이썬에서만 가능한 표현: 0 < x < 10"
   ]
  },
  {
   "cell_type": "markdown",
   "metadata": {},
   "source": [
    "### 4-6 True, False\n",
    "- \"만약 a가 참이라면, ...\"\n",
    "- a = True"
   ]
  },
  {
   "cell_type": "code",
   "execution_count": 5,
   "metadata": {},
   "outputs": [
    {
     "ename": "NameError",
     "evalue": "name 'a' is not defined",
     "output_type": "error",
     "traceback": [
      "\u001b[1;31m---------------------------------------------------------------------------\u001b[0m",
      "\u001b[1;31mNameError\u001b[0m                                 Traceback (most recent call last)",
      "\u001b[1;32m<ipython-input-5-323381501acc>\u001b[0m in \u001b[0;36m<module>\u001b[1;34m\u001b[0m\n\u001b[1;32m----> 1\u001b[1;33m \u001b[1;32mif\u001b[0m \u001b[0ma\u001b[0m \u001b[1;33m==\u001b[0m \u001b[1;32mTrue\u001b[0m\u001b[1;33m:\u001b[0m\u001b[1;33m\u001b[0m\u001b[1;33m\u001b[0m\u001b[0m\n\u001b[0m\u001b[0;32m      2\u001b[0m     \u001b[0mprint\u001b[0m\u001b[1;33m(\u001b[0m\u001b[1;33m)\u001b[0m \u001b[1;31m# 틀림! 쓰면 감점!!\u001b[0m\u001b[1;33m\u001b[0m\u001b[1;33m\u001b[0m\u001b[0m\n\u001b[0;32m      3\u001b[0m \u001b[1;33m\u001b[0m\u001b[0m\n\u001b[0;32m      4\u001b[0m \u001b[1;32mif\u001b[0m \u001b[0ma\u001b[0m\u001b[1;33m:\u001b[0m\u001b[1;33m\u001b[0m\u001b[1;33m\u001b[0m\u001b[0m\n\u001b[0;32m      5\u001b[0m     \u001b[0mprint\u001b[0m\u001b[1;33m(\u001b[0m\u001b[1;33m)\u001b[0m\u001b[1;33m\u001b[0m\u001b[1;33m\u001b[0m\u001b[0m\n",
      "\u001b[1;31mNameError\u001b[0m: name 'a' is not defined"
     ]
    }
   ],
   "source": [
    "if a == True:\n",
    "    print() # 틀림! 쓰면 감점!!\n",
    "    \n",
    "if a:\n",
    "    print() "
   ]
  },
  {
   "cell_type": "markdown",
   "metadata": {},
   "source": [
    "### 4-7 in\n",
    "- membership operator\n",
    "- 어떤 요소가 그 안에 있는지 확인하고 싶다\n",
    "- 비슷한 조건이 여러번 반복될 때 사용 가능"
   ]
  },
  {
   "cell_type": "code",
   "execution_count": 42,
   "metadata": {},
   "outputs": [
    {
     "name": "stdout",
     "output_type": "stream",
     "text": [
      "No\n"
     ]
    }
   ],
   "source": [
    "letter = 'k'\n",
    "\n",
    "# letter가 모음인지 확인하고 싶다: a, e, i, o, u\n",
    "# if letter == 'a' or letter == 'e' ...\n",
    "\n",
    "if letter in ['a', 'e', 'i', 'o', 'u']: # 리스트 요소에 letter와 일치하는 것이 있는가\n",
    "    print(\"Yes\")\n",
    "else:\n",
    "    print(\"No\")"
   ]
  },
  {
   "cell_type": "code",
   "execution_count": 7,
   "metadata": {},
   "outputs": [
    {
     "name": "stdout",
     "output_type": "stream",
     "text": [
      "Yes\n"
     ]
    }
   ],
   "source": [
    "word = 'abcde'\n",
    "\n",
    "# word에 모음이 있는지 확인 (my answer)\n",
    "vowel = False\n",
    "for letter in ['a', 'e', 'i', 'o', 'u']:\n",
    "    if letter in word:\n",
    "        vowel = True\n",
    "\n",
    "if vowel == True:\n",
    "    print(\"Yes\")\n",
    "else:\n",
    "    print(\"No\")"
   ]
  },
  {
   "cell_type": "code",
   "execution_count": 8,
   "metadata": {},
   "outputs": [
    {
     "name": "stdout",
     "output_type": "stream",
     "text": [
      "Yes\n"
     ]
    }
   ],
   "source": [
    "# word에 모음이 있는지 확인 (prof ver.)\n",
    "if \"a\" or \"e\" or \"i\" or \"o\" or \"u\" in word:\n",
    "    print(\"Yes\")\n",
    "else:\n",
    "    print(\"No\")"
   ]
  },
  {
   "cell_type": "code",
   "execution_count": 9,
   "metadata": {},
   "outputs": [
    {
     "name": "stdout",
     "output_type": "stream",
     "text": [
      "Yes\n"
     ]
    }
   ],
   "source": [
    "# for문 안쓰는 방법 \n",
    "if \"a\" or \"e\" or \"i\" or \"o\" or \"u\" in word: \n",
    "    print(\"Yes\")\n",
    "else:\n",
    "    print(\"No\")"
   ]
  },
  {
   "cell_type": "markdown",
   "metadata": {},
   "source": [
    "### 4-8 바다코끼리 연산자\n",
    "- walrus operator\n",
    "- 할당과 테스트를 동시에 하는 기능\n",
    "- :="
   ]
  },
  {
   "cell_type": "code",
   "execution_count": 43,
   "metadata": {},
   "outputs": [
    {
     "data": {
      "text/plain": [
       "'blahblahblahblahblahblahblahblahblahblahblahblahblahblahblahblahblahblahblahblahblahblahblahblahblahblahblahblahblahblahblahblahblahblahblahblahblahblahblahblahblahblahblahblahblahblahblahblahblahblah'"
      ]
     },
     "execution_count": 43,
     "metadata": {},
     "output_type": "execute_result"
    }
   ],
   "source": [
    "tweet_limit = 200\n",
    "tweet_string = 'blah' * 50\n",
    "tweet_string"
   ]
  },
  {
   "cell_type": "code",
   "execution_count": 44,
   "metadata": {},
   "outputs": [
    {
     "name": "stdout",
     "output_type": "stream",
     "text": [
      "불가능\n"
     ]
    }
   ],
   "source": [
    "diff = tweet_limit - len(tweet_string)\n",
    "if diff > 0:\n",
    "    print(\"가능\")\n",
    "else:\n",
    "    print(\"불가능\")"
   ]
  },
  {
   "cell_type": "code",
   "execution_count": 46,
   "metadata": {},
   "outputs": [
    {
     "ename": "SyntaxError",
     "evalue": "invalid syntax (<ipython-input-46-4d72436eaffa>, line 2)",
     "output_type": "error",
     "traceback": [
      "\u001b[1;36m  File \u001b[1;32m\"<ipython-input-46-4d72436eaffa>\"\u001b[1;36m, line \u001b[1;32m2\u001b[0m\n\u001b[1;33m    if diff := tweet_limit - len(tweet_string) > 0:\u001b[0m\n\u001b[1;37m             ^\u001b[0m\n\u001b[1;31mSyntaxError\u001b[0m\u001b[1;31m:\u001b[0m invalid syntax\n"
     ]
    }
   ],
   "source": [
    "# 왜 안되는지 해결하지 못했습니다...\n",
    "if diff := tweet_limit - len(tweet_string) > 0:\n",
    "    print(\"가능\")"
   ]
  },
  {
   "cell_type": "markdown",
   "metadata": {},
   "source": [
    "#### Quiz\n",
    "- 윤년을 구하는 코드를 짜보자\n",
    "    - 연도가 4로 나눠떨어지면 윤년\n",
    "    - 100으로 나눠떨어지면 안된다\n",
    "    - 400으로 나눠떨어지면 된다\n",
    "    \n",
    "- year를 입력받는다.\n",
    "- '{}년은 윤년입니다' / \"{}년은 윤년이 아닙니다\""
   ]
  },
  {
   "cell_type": "code",
   "execution_count": 47,
   "metadata": {},
   "outputs": [
    {
     "name": "stdin",
     "output_type": "stream",
     "text": [
      "연도를 입력하세요. 7999\n"
     ]
    },
    {
     "name": "stdout",
     "output_type": "stream",
     "text": [
      "7999년은 윤년이 아닙니다.\n"
     ]
    }
   ],
   "source": [
    "# 내 답(너무 김)\n",
    "year = int(input(\"연도를 입력하세요.\"))\n",
    "\n",
    "leap_year = False\n",
    "if year % 4 == 0:\n",
    "    leap_year = True\n",
    "#if year % 100 == 0:\n",
    "#    leap_year = False\n",
    "if year % 400 == 0:\n",
    "    leap_year = True\n",
    "\n",
    "if leap_year:\n",
    "    print(f'{year}년은 윤년입니다.')\n",
    "else:\n",
    "    print(f'{year}년은 윤년이 아닙니다.')"
   ]
  },
  {
   "cell_type": "code",
   "execution_count": 33,
   "metadata": {},
   "outputs": [
    {
     "name": "stdin",
     "output_type": "stream",
     "text": [
      "연도를 입력하세요. 4800\n"
     ]
    },
    {
     "name": "stdout",
     "output_type": "stream",
     "text": [
      "4800년은 윤년입니다.\n"
     ]
    }
   ],
   "source": [
    "# 논리연산자 이용한 답\n",
    "year = int(input(\"연도를 입력하세요.\"))\n",
    "\n",
    "if year % 4 == 0 and year % 100 != 0 or year % 400 == 0:\n",
    "    print(f'{year}년은 윤년입니다.')\n",
    "else:\n",
    "    print(f'{year}년은 윤년이 아닙니다.')"
   ]
  },
  {
   "cell_type": "markdown",
   "metadata": {},
   "source": [
    "## Ch05. 텍스트 문자열"
   ]
  },
  {
   "cell_type": "markdown",
   "metadata": {},
   "source": [
    "### 5-1 String | 문자열\n",
    "- str type\n",
    "- 시스템에서 가장 작은 단위\n",
    "- 불변적인 성격을 가짐 (immutable)\n",
    "    - 'abcd' -> b -> a 바꿀 수 없다\n",
    "- 문법: '', \"\" 감싸면 모두 문자열\n",
    "    - 예: '24'\n",
    "- ''' or \"\"\" => 주석\n",
    "- 형 변환은 str()"
   ]
  },
  {
   "cell_type": "markdown",
   "metadata": {},
   "source": [
    "#### + 추가)\n",
    "- multiline string: 세 개의 작은따옴표(''')나 세개의 큰따옴표(\"\"\") 사용\n",
    "- 세 개의 작은따옴표 안에 여러 줄 있을 시, 문자열 끝에 들어있는 라인 끝 문자가 보존"
   ]
  },
  {
   "cell_type": "code",
   "execution_count": 48,
   "metadata": {},
   "outputs": [
    {
     "name": "stdout",
     "output_type": "stream",
     "text": [
      "Multiline string: \n",
      "I'm learning Python.\n",
      "I refer to TechBeamers.com tutorials.\n",
      "It is the most popular site for Python programmers.\n"
     ]
    }
   ],
   "source": [
    "multiline_str = \"\"\"I'm learning Python.\n",
    "I refer to TechBeamers.com tutorials.\n",
    "It is the most popular site for Python programmers.\"\"\"\n",
    "print(\"Multiline string: \\n\" + multiline_str)"
   ]
  },
  {
   "cell_type": "markdown",
   "metadata": {},
   "source": [
    "### 5-2 Escape character | 이스케이프문자\n",
    "- 눈에 보이는대로 인식되지 않는 문자열\n",
    "- 문법: \\ + <character>\n",
    "- \\n, \\t, \\b (backspace, 잘 안씀)\n",
    "- print() 함수 쓰지 않으면 형태가 출력은 된다\n",
    "- '\\n' 출력은 어떻게?\n",
    "    - \\\\n\n",
    "    - r'' (raw string)\n",
    "- 문자열을 바꾸는 것이 아니라 표면상의 형태를 말하는 것"
   ]
  },
  {
   "cell_type": "code",
   "execution_count": 49,
   "metadata": {},
   "outputs": [
    {
     "name": "stdout",
     "output_type": "stream",
     "text": [
      "hellworld I'm a boy\n"
     ]
    }
   ],
   "source": [
    "print('hello\\bworld I\\'m a boy')"
   ]
  },
  {
   "cell_type": "code",
   "execution_count": 50,
   "metadata": {},
   "outputs": [
    {
     "name": "stdout",
     "output_type": "stream",
     "text": [
      "hellworld I'm a boy\n"
     ]
    }
   ],
   "source": [
    "sent = 'hello\\bworld I\\'m a boy'\n",
    "print(sent)"
   ]
  },
  {
   "cell_type": "code",
   "execution_count": 51,
   "metadata": {},
   "outputs": [
    {
     "data": {
      "text/plain": [
       "\"hello\\x08world I'm a boy\""
      ]
     },
     "execution_count": 51,
     "metadata": {},
     "output_type": "execute_result"
    }
   ],
   "source": [
    "sent"
   ]
  },
  {
   "cell_type": "code",
   "execution_count": 52,
   "metadata": {},
   "outputs": [
    {
     "name": "stdout",
     "output_type": "stream",
     "text": [
      "hello\\bworld I'm a boy\n"
     ]
    }
   ],
   "source": [
    "sent = 'hello\\\\bworld I\\'m a boy'\n",
    "print(sent)"
   ]
  },
  {
   "cell_type": "code",
   "execution_count": 53,
   "metadata": {},
   "outputs": [
    {
     "name": "stdout",
     "output_type": "stream",
     "text": [
      "hello\\bworld I\\'m a boy\n"
     ]
    }
   ],
   "source": [
    "sent = r'hello\\bworld I\\'m a boy'\n",
    "print(sent)"
   ]
  },
  {
   "cell_type": "markdown",
   "metadata": {},
   "source": [
    "### 5-3 연산\n",
    "- concatenation (+)\n",
    "    - '' + '' => 붙이기\n",
    "- 복제 (*)\n",
    "    - ''*4 => 4번 반복"
   ]
  },
  {
   "cell_type": "code",
   "execution_count": 54,
   "metadata": {},
   "outputs": [
    {
     "data": {
      "text/plain": [
       "'brainbrain'"
      ]
     },
     "execution_count": 54,
     "metadata": {},
     "output_type": "execute_result"
    }
   ],
   "source": [
    "word = 'brain' # 공백 없이 붙는다\n",
    "word + word"
   ]
  },
  {
   "cell_type": "code",
   "execution_count": 55,
   "metadata": {},
   "outputs": [
    {
     "data": {
      "text/plain": [
       "'My word! A gentleman caller!'"
      ]
     },
     "execution_count": 55,
     "metadata": {},
     "output_type": "execute_result"
    }
   ],
   "source": [
    "# +) literal string(문자열 변수가 아닌)을 차례로 결합\n",
    "\"My word! \" \"A gentleman caller!\""
   ]
  },
  {
   "cell_type": "code",
   "execution_count": 56,
   "metadata": {},
   "outputs": [
    {
     "data": {
      "text/plain": [
       "'brainbrainbrainbrain'"
      ]
     },
     "execution_count": 56,
     "metadata": {},
     "output_type": "execute_result"
    }
   ],
   "source": [
    "word * 4"
   ]
  },
  {
   "cell_type": "code",
   "execution_count": 57,
   "metadata": {},
   "outputs": [
    {
     "data": {
      "text/plain": [
       "'My name isJake'"
      ]
     },
     "execution_count": 57,
     "metadata": {},
     "output_type": "execute_result"
    }
   ],
   "source": [
    "\"My name is\" + \"Jake\" # 공백 없음"
   ]
  },
  {
   "cell_type": "code",
   "execution_count": 58,
   "metadata": {},
   "outputs": [
    {
     "name": "stdout",
     "output_type": "stream",
     "text": [
      "Na Na Na Na \n",
      "Na Na Na Na \n",
      "Hey Hey Hey \n",
      "Goodbye.\n"
     ]
    }
   ],
   "source": [
    "# 예제: * > + (우선순위)\n",
    "start = 'Na ' * 4 + '\\n'\n",
    "middle = 'Hey ' * 3 + '\\n'\n",
    "end = 'Goodbye.'\n",
    "print(start + start + middle + end)"
   ]
  },
  {
   "cell_type": "markdown",
   "metadata": {},
   "source": [
    "### 5-4 Indexing\n",
    "- 문자열 이름[offset]\n",
    "- offset을 문자열의 길이 or 그 이상으로 지정하면 예외 발생\n",
    "- list나 tuple과 동일하게 동작\n",
    "    - 문자열은 불변 -> 특정 인덱스에 문자 삽입/변경 불가능\n",
    "    - 대신, replace()나 slice와 같은 문자열 함수 사용 가능"
   ]
  },
  {
   "cell_type": "code",
   "execution_count": 59,
   "metadata": {},
   "outputs": [
    {
     "data": {
      "text/plain": [
       "'Penny'"
      ]
     },
     "execution_count": 59,
     "metadata": {},
     "output_type": "execute_result"
    }
   ],
   "source": [
    "name = 'Henny'\n",
    "name.replace('H', 'P')"
   ]
  },
  {
   "cell_type": "code",
   "execution_count": 60,
   "metadata": {},
   "outputs": [
    {
     "data": {
      "text/plain": [
       "'Penny'"
      ]
     },
     "execution_count": 60,
     "metadata": {},
     "output_type": "execute_result"
    }
   ],
   "source": [
    "'P' + name[1:]"
   ]
  },
  {
   "cell_type": "markdown",
   "metadata": {},
   "source": [
    "### 5-5 Slicing\n",
    "- 지정 범위의 문자열을 추출하는 것\n",
    "- 문법: 대괄호 + 오프셋 이용 [offset]\n",
    "    - [start:end:step]\n",
    "- 오프셋은 0부터 시작\n",
    "- start 포함, end 불포함 (크거나 같고, 작다)\n",
    "- 0일 경우 생략한다.\n",
    "    - 예: ~4까지 출력하라 => [:5]\n",
    "    - 처음부터 끝까지 2스텝씩 => [::2]\n",
    "    - 처음부터 끝까지 역순으로 찍기 => [::-1]\n",
    "- 오프셋은 음수로도 가능하다\n",
    "\n",
    "0 1 2 ..\n",
    "H e l l o\n",
    "-5     -1"
   ]
  },
  {
   "cell_type": "code",
   "execution_count": 24,
   "metadata": {},
   "outputs": [
    {
     "data": {
      "text/plain": [
       "(\"hello\\\\bworld I\\\\'m a boy\", 'h')"
      ]
     },
     "execution_count": 24,
     "metadata": {},
     "output_type": "execute_result"
    }
   ],
   "source": [
    "sent, sent[0]"
   ]
  },
  {
   "cell_type": "code",
   "execution_count": 13,
   "metadata": {},
   "outputs": [
    {
     "data": {
      "text/plain": [
       "'l'"
      ]
     },
     "execution_count": 13,
     "metadata": {},
     "output_type": "execute_result"
    }
   ],
   "source": [
    "sent[3:4] # 3만 나옴"
   ]
  },
  {
   "cell_type": "code",
   "execution_count": 15,
   "metadata": {},
   "outputs": [
    {
     "data": {
      "text/plain": [
       "'hello'"
      ]
     },
     "execution_count": 15,
     "metadata": {},
     "output_type": "execute_result"
    }
   ],
   "source": [
    "# 처음부터 4까지\n",
    "sent[:5]"
   ]
  },
  {
   "cell_type": "code",
   "execution_count": 17,
   "metadata": {},
   "outputs": [
    {
     "data": {
      "text/plain": [
       "11"
      ]
     },
     "execution_count": 17,
     "metadata": {},
     "output_type": "execute_result"
    }
   ],
   "source": [
    "sent2 = 'hello world'\n",
    "len(sent2) # length (공백까지 포함한다)"
   ]
  },
  {
   "cell_type": "code",
   "execution_count": 19,
   "metadata": {},
   "outputs": [
    {
     "data": {
      "text/plain": [
       "'hlobol \\\\maby'"
      ]
     },
     "execution_count": 19,
     "metadata": {},
     "output_type": "execute_result"
    }
   ],
   "source": [
    "# 처음부터 끝까지 2스텝씩 출력하기\n",
    "sent[::2]"
   ]
  },
  {
   "cell_type": "code",
   "execution_count": 11,
   "metadata": {},
   "outputs": [
    {
     "data": {
      "text/plain": [
       "'olleh'"
      ]
     },
     "execution_count": 11,
     "metadata": {},
     "output_type": "execute_result"
    }
   ],
   "source": [
    "hello = \"hello\"\n",
    "hello[::-1]"
   ]
  },
  {
   "cell_type": "code",
   "execution_count": 12,
   "metadata": {},
   "outputs": [
    {
     "ename": "TypeError",
     "evalue": "'str' object does not support item assignment",
     "output_type": "error",
     "traceback": [
      "\u001b[1;31m---------------------------------------------------------------------------\u001b[0m",
      "\u001b[1;31mTypeError\u001b[0m                                 Traceback (most recent call last)",
      "\u001b[1;32m<ipython-input-12-c50453b8a9d6>\u001b[0m in \u001b[0;36m<module>\u001b[1;34m\u001b[0m\n\u001b[1;32m----> 1\u001b[1;33m \u001b[0mhello\u001b[0m\u001b[1;33m[\u001b[0m\u001b[1;36m2\u001b[0m\u001b[1;33m]\u001b[0m \u001b[1;33m=\u001b[0m \u001b[1;34m'L'\u001b[0m \u001b[1;31m# error: 불변파일이기 때문에 바꿀 수 없다\u001b[0m\u001b[1;33m\u001b[0m\u001b[1;33m\u001b[0m\u001b[0m\n\u001b[0m\u001b[0;32m      2\u001b[0m \u001b[0mhello\u001b[0m\u001b[1;33m\u001b[0m\u001b[1;33m\u001b[0m\u001b[0m\n",
      "\u001b[1;31mTypeError\u001b[0m: 'str' object does not support item assignment"
     ]
    }
   ],
   "source": [
    "hello[2] = 'L' # error: 불변파일이기 때문에 바꿀 수 없다\n",
    "hello"
   ]
  },
  {
   "cell_type": "markdown",
   "metadata": {},
   "source": [
    "### 5-6 NLTK\n",
    "- natural language toolkit\n",
    "- 교육용으로 개발된 자연어처리 패키지\n",
    "- 코퍼스 제공하는데 어떤 처리가 되어 있다. \n",
    "    - 토크나이즈, 파싱, 태깅, .. "
   ]
  },
  {
   "cell_type": "code",
   "execution_count": 15,
   "metadata": {},
   "outputs": [
    {
     "name": "stdout",
     "output_type": "stream",
     "text": [
      "Requirement already satisfied: nltk in c:\\users\\user\\anaconda3\\lib\\site-packages (3.4.5)\n",
      "Requirement already satisfied: six in c:\\users\\user\\appdata\\roaming\\python\\python37\\site-packages (from nltk) (1.11.0)\n"
     ]
    }
   ],
   "source": [
    "!pip install nltk # 터미널로 패키지 설치하는 코드"
   ]
  },
  {
   "cell_type": "code",
   "execution_count": 16,
   "metadata": {
    "scrolled": true
   },
   "outputs": [
    {
     "data": {
      "text/plain": [
       "True"
      ]
     },
     "execution_count": 16,
     "metadata": {},
     "output_type": "execute_result"
    }
   ],
   "source": [
    "import nltk\n",
    "nltk.download('book', quiet = True) # dot으로 접근\n",
    "# quiet = True: 밑에 잔잔바리 안뜨게"
   ]
  },
  {
   "cell_type": "code",
   "execution_count": 17,
   "metadata": {},
   "outputs": [
    {
     "name": "stdout",
     "output_type": "stream",
     "text": [
      "*** Introductory Examples for the NLTK Book ***\n",
      "Loading text1, ..., text9 and sent1, ..., sent9\n",
      "Type the name of the text or sentence to view it.\n",
      "Type: 'texts()' or 'sents()' to list the materials.\n",
      "text1: Moby Dick by Herman Melville 1851\n",
      "text2: Sense and Sensibility by Jane Austen 1811\n",
      "text3: The Book of Genesis\n",
      "text4: Inaugural Address Corpus\n",
      "text5: Chat Corpus\n",
      "text6: Monty Python and the Holy Grail\n",
      "text7: Wall Street Journal\n",
      "text8: Personals Corpus\n",
      "text9: The Man Who Was Thursday by G . K . Chesterton 1908\n"
     ]
    }
   ],
   "source": [
    "from nltk import book"
   ]
  },
  {
   "cell_type": "code",
   "execution_count": 18,
   "metadata": {},
   "outputs": [
    {
     "data": {
      "text/plain": [
       "<Text: Moby Dick by Herman Melville 1851>"
      ]
     },
     "execution_count": 18,
     "metadata": {},
     "output_type": "execute_result"
    }
   ],
   "source": [
    "moby = book.text1\n",
    "moby"
   ]
  },
  {
   "cell_type": "code",
   "execution_count": 26,
   "metadata": {
    "scrolled": true
   },
   "outputs": [
    {
     "data": {
      "text/plain": [
       "['[',\n",
       " 'Moby',\n",
       " 'Dick',\n",
       " 'by',\n",
       " 'Herman',\n",
       " 'Melville',\n",
       " '1851',\n",
       " ']',\n",
       " 'ETYMOLOGY',\n",
       " '.',\n",
       " '(',\n",
       " 'Supplied',\n",
       " 'by',\n",
       " 'a',\n",
       " 'Late',\n",
       " 'Consumptive',\n",
       " 'Usher',\n",
       " 'to',\n",
       " 'a',\n",
       " 'Grammar',\n",
       " 'School',\n",
       " ')',\n",
       " 'The',\n",
       " 'pale',\n",
       " 'Usher',\n",
       " '--',\n",
       " 'threadbare',\n",
       " 'in',\n",
       " 'coat',\n",
       " ',',\n",
       " 'heart',\n",
       " ',',\n",
       " 'body',\n",
       " ',',\n",
       " 'and',\n",
       " 'brain',\n",
       " ';',\n",
       " 'I',\n",
       " 'see',\n",
       " 'him',\n",
       " 'now',\n",
       " '.',\n",
       " 'He',\n",
       " 'was',\n",
       " 'ever',\n",
       " 'dusting',\n",
       " 'his',\n",
       " 'old',\n",
       " 'lexicons',\n",
       " 'and',\n",
       " 'grammars',\n",
       " ',',\n",
       " 'with',\n",
       " 'a',\n",
       " 'queer',\n",
       " 'handkerchief',\n",
       " ',',\n",
       " 'mockingly',\n",
       " 'embellished',\n",
       " 'with',\n",
       " 'all',\n",
       " 'the',\n",
       " 'gay',\n",
       " 'flags',\n",
       " 'of',\n",
       " 'all',\n",
       " 'the',\n",
       " 'known',\n",
       " 'nations',\n",
       " 'of',\n",
       " 'the',\n",
       " 'world',\n",
       " '.',\n",
       " 'He',\n",
       " 'loved',\n",
       " 'to',\n",
       " 'dust',\n",
       " 'his',\n",
       " 'old',\n",
       " 'grammars',\n",
       " ';',\n",
       " 'it',\n",
       " 'somehow',\n",
       " 'mildly',\n",
       " 'reminded',\n",
       " 'him',\n",
       " 'of',\n",
       " 'his',\n",
       " 'mortality',\n",
       " '.',\n",
       " '\"',\n",
       " 'While',\n",
       " 'you',\n",
       " 'take',\n",
       " 'in',\n",
       " 'hand',\n",
       " 'to',\n",
       " 'school',\n",
       " 'others',\n",
       " ',',\n",
       " 'and',\n",
       " 'to',\n",
       " 'teach',\n",
       " 'them',\n",
       " 'by',\n",
       " 'what',\n",
       " 'name',\n",
       " 'a',\n",
       " 'whale',\n",
       " '-',\n",
       " 'fish',\n",
       " 'is',\n",
       " 'to',\n",
       " 'be',\n",
       " 'called',\n",
       " 'in',\n",
       " 'our',\n",
       " 'tongue',\n",
       " 'leaving',\n",
       " 'out',\n",
       " ',',\n",
       " 'through',\n",
       " 'ignorance',\n",
       " ',',\n",
       " 'the',\n",
       " 'letter',\n",
       " 'H',\n",
       " ',',\n",
       " 'which',\n",
       " 'almost',\n",
       " 'alone',\n",
       " 'maketh',\n",
       " 'the',\n",
       " 'signification',\n",
       " 'of',\n",
       " 'the',\n",
       " 'word',\n",
       " ',',\n",
       " 'you',\n",
       " 'deliver',\n",
       " 'that',\n",
       " 'which',\n",
       " 'is',\n",
       " 'not',\n",
       " 'true',\n",
       " '.\"',\n",
       " '--',\n",
       " 'HACKLUYT',\n",
       " '\"',\n",
       " 'WHALE',\n",
       " '.',\n",
       " '...',\n",
       " 'Sw',\n",
       " '.',\n",
       " 'and',\n",
       " 'Dan',\n",
       " '.',\n",
       " 'HVAL',\n",
       " '.',\n",
       " 'This',\n",
       " 'animal',\n",
       " 'is',\n",
       " 'named',\n",
       " 'from',\n",
       " 'roundness',\n",
       " 'or',\n",
       " 'rolling',\n",
       " ';',\n",
       " 'for',\n",
       " 'in',\n",
       " 'Dan',\n",
       " '.',\n",
       " 'HVALT',\n",
       " 'is',\n",
       " 'arched',\n",
       " 'or',\n",
       " 'vaulted',\n",
       " '.\"',\n",
       " '--',\n",
       " 'WEBSTER',\n",
       " \"'\",\n",
       " 'S',\n",
       " 'DICTIONARY',\n",
       " '\"',\n",
       " 'WHALE',\n",
       " '.',\n",
       " '...',\n",
       " 'It',\n",
       " 'is',\n",
       " 'more',\n",
       " 'immediately',\n",
       " 'from',\n",
       " 'the',\n",
       " 'Dut',\n",
       " '.',\n",
       " 'and',\n",
       " 'Ger',\n",
       " '.',\n",
       " 'WALLEN',\n",
       " ';',\n",
       " 'A',\n",
       " '.',\n",
       " 'S',\n",
       " '.',\n",
       " 'WALW',\n",
       " '-',\n",
       " 'IAN',\n",
       " ',',\n",
       " 'to',\n",
       " 'roll',\n",
       " ',',\n",
       " 'to',\n",
       " 'wallow',\n",
       " '.\"',\n",
       " '--',\n",
       " 'RICHARDSON',\n",
       " \"'\",\n",
       " 'S',\n",
       " 'DICTIONARY',\n",
       " 'KETOS',\n",
       " ',',\n",
       " 'GREEK',\n",
       " '.',\n",
       " 'CETUS',\n",
       " ',',\n",
       " 'LATIN',\n",
       " '.',\n",
       " 'WHOEL',\n",
       " ',',\n",
       " 'ANGLO',\n",
       " '-',\n",
       " 'SAXON',\n",
       " '.',\n",
       " 'HVALT',\n",
       " ',',\n",
       " 'DANISH',\n",
       " '.',\n",
       " 'WAL',\n",
       " ',',\n",
       " 'DUTCH',\n",
       " '.',\n",
       " 'HWAL',\n",
       " ',',\n",
       " 'SWEDISH',\n",
       " '.',\n",
       " 'WHALE',\n",
       " ',',\n",
       " 'ICELANDIC',\n",
       " '.',\n",
       " 'WHALE',\n",
       " ',',\n",
       " 'ENGLISH',\n",
       " '.',\n",
       " 'BALEINE',\n",
       " ',',\n",
       " 'FRENCH',\n",
       " '.',\n",
       " 'BALLENA',\n",
       " ',',\n",
       " 'SPANISH',\n",
       " '.',\n",
       " 'PEKEE',\n",
       " '-',\n",
       " 'NUEE',\n",
       " '-',\n",
       " 'NUEE',\n",
       " ',',\n",
       " 'FEGEE',\n",
       " '.',\n",
       " 'PEKEE',\n",
       " '-',\n",
       " 'NUEE',\n",
       " '-',\n",
       " 'NUEE',\n",
       " ',',\n",
       " 'ERROMANGOAN',\n",
       " '.',\n",
       " 'EXTRACTS',\n",
       " '(',\n",
       " 'Supplied',\n",
       " 'by',\n",
       " 'a',\n",
       " 'Sub',\n",
       " '-',\n",
       " 'Sub',\n",
       " '-',\n",
       " 'Librarian',\n",
       " ').',\n",
       " 'It',\n",
       " 'will',\n",
       " 'be',\n",
       " 'seen',\n",
       " 'that',\n",
       " 'this',\n",
       " 'mere',\n",
       " 'painstaking',\n",
       " 'burrower',\n",
       " 'and',\n",
       " 'grub',\n",
       " '-',\n",
       " 'worm',\n",
       " 'of',\n",
       " 'a',\n",
       " 'poor',\n",
       " 'devil',\n",
       " 'of',\n",
       " 'a',\n",
       " 'Sub',\n",
       " '-',\n",
       " 'Sub',\n",
       " 'appears',\n",
       " 'to',\n",
       " 'have',\n",
       " 'gone',\n",
       " 'through',\n",
       " 'the',\n",
       " 'long',\n",
       " 'Vaticans',\n",
       " 'and',\n",
       " 'street',\n",
       " '-',\n",
       " 'stalls',\n",
       " 'of',\n",
       " 'the',\n",
       " 'earth',\n",
       " ',',\n",
       " 'picking',\n",
       " 'up',\n",
       " 'whatever',\n",
       " 'random',\n",
       " 'allusions',\n",
       " 'to',\n",
       " 'whales',\n",
       " 'he',\n",
       " 'could',\n",
       " 'anyways',\n",
       " 'find',\n",
       " 'in',\n",
       " 'any',\n",
       " 'book',\n",
       " 'whatsoever',\n",
       " ',',\n",
       " 'sacred',\n",
       " 'or',\n",
       " 'profane',\n",
       " '.',\n",
       " 'Therefore',\n",
       " 'you',\n",
       " 'must',\n",
       " 'not',\n",
       " ',',\n",
       " 'in',\n",
       " 'every',\n",
       " 'case',\n",
       " 'at',\n",
       " 'least',\n",
       " ',',\n",
       " 'take',\n",
       " 'the',\n",
       " 'higgledy',\n",
       " '-',\n",
       " 'piggledy',\n",
       " 'whale',\n",
       " 'statements',\n",
       " ',',\n",
       " 'however',\n",
       " 'authentic',\n",
       " ',',\n",
       " 'in',\n",
       " 'these',\n",
       " 'extracts',\n",
       " ',',\n",
       " 'for',\n",
       " 'veritable',\n",
       " 'gospel',\n",
       " 'cetology',\n",
       " '.',\n",
       " 'Far',\n",
       " 'from',\n",
       " 'it',\n",
       " '.',\n",
       " 'As',\n",
       " 'touching',\n",
       " 'the',\n",
       " 'ancient',\n",
       " 'authors',\n",
       " 'generally',\n",
       " ',',\n",
       " 'as',\n",
       " 'well',\n",
       " 'as',\n",
       " 'the',\n",
       " 'poets',\n",
       " 'here',\n",
       " 'appearing',\n",
       " ',',\n",
       " 'these',\n",
       " 'extracts',\n",
       " 'are',\n",
       " 'solely',\n",
       " 'valuable',\n",
       " 'or',\n",
       " 'entertaining',\n",
       " ',',\n",
       " 'as',\n",
       " 'affording',\n",
       " 'a',\n",
       " 'glancing',\n",
       " 'bird',\n",
       " \"'\",\n",
       " 's',\n",
       " 'eye',\n",
       " 'view',\n",
       " 'of',\n",
       " 'what',\n",
       " 'has',\n",
       " 'been',\n",
       " 'promiscuously',\n",
       " 'said',\n",
       " ',',\n",
       " 'thought',\n",
       " ',',\n",
       " 'fancied',\n",
       " ',',\n",
       " 'and',\n",
       " 'sung',\n",
       " 'of',\n",
       " 'Leviathan',\n",
       " ',',\n",
       " 'by',\n",
       " 'many',\n",
       " 'nations',\n",
       " 'and',\n",
       " 'generations',\n",
       " ',',\n",
       " 'including',\n",
       " 'our',\n",
       " 'own',\n",
       " '.',\n",
       " 'So',\n",
       " 'fare',\n",
       " 'thee',\n",
       " 'well',\n",
       " ',',\n",
       " 'poor',\n",
       " 'devil',\n",
       " 'of',\n",
       " 'a',\n",
       " 'Sub',\n",
       " '-',\n",
       " 'Sub',\n",
       " ',',\n",
       " 'whose',\n",
       " 'commentator',\n",
       " 'I',\n",
       " 'am',\n",
       " '.',\n",
       " 'Thou',\n",
       " 'belongest',\n",
       " 'to',\n",
       " 'that',\n",
       " 'hopeless',\n",
       " ',',\n",
       " 'sallow',\n",
       " 'tribe',\n",
       " 'which',\n",
       " 'no',\n",
       " 'wine',\n",
       " 'of',\n",
       " 'this',\n",
       " 'world',\n",
       " 'will',\n",
       " 'ever',\n",
       " 'warm',\n",
       " ';',\n",
       " 'and',\n",
       " 'for',\n",
       " 'whom',\n",
       " 'even',\n",
       " 'Pale',\n",
       " 'Sherry',\n",
       " 'would',\n",
       " 'be',\n",
       " 'too',\n",
       " 'rosy',\n",
       " '-',\n",
       " 'strong',\n",
       " ';',\n",
       " 'but',\n",
       " 'with',\n",
       " 'whom',\n",
       " 'one',\n",
       " 'sometimes',\n",
       " 'loves',\n",
       " 'to',\n",
       " 'sit',\n",
       " ',',\n",
       " 'and',\n",
       " 'feel',\n",
       " 'poor',\n",
       " '-',\n",
       " 'devilish',\n",
       " ',',\n",
       " 'too',\n",
       " ';',\n",
       " 'and',\n",
       " 'grow',\n",
       " 'convivial',\n",
       " 'upon',\n",
       " 'tears',\n",
       " ';',\n",
       " 'and',\n",
       " 'say',\n",
       " 'to',\n",
       " 'them',\n",
       " 'bluntly',\n",
       " ',',\n",
       " 'with',\n",
       " 'full',\n",
       " 'eyes',\n",
       " 'and',\n",
       " 'empty',\n",
       " 'glasses',\n",
       " ',',\n",
       " 'and',\n",
       " 'in',\n",
       " 'not',\n",
       " 'altogether',\n",
       " 'unpleasant',\n",
       " 'sadness',\n",
       " '--',\n",
       " 'Give',\n",
       " 'it',\n",
       " 'up',\n",
       " ',',\n",
       " 'Sub',\n",
       " '-',\n",
       " 'Subs',\n",
       " '!',\n",
       " 'For',\n",
       " 'by',\n",
       " 'how',\n",
       " 'much',\n",
       " 'the',\n",
       " 'more',\n",
       " 'pains',\n",
       " 'ye',\n",
       " 'take',\n",
       " 'to',\n",
       " 'please',\n",
       " 'the',\n",
       " 'world',\n",
       " ',',\n",
       " 'by',\n",
       " 'so',\n",
       " 'much',\n",
       " 'the',\n",
       " 'more',\n",
       " 'shall',\n",
       " 'ye',\n",
       " 'for',\n",
       " 'ever',\n",
       " 'go',\n",
       " 'thankless',\n",
       " '!',\n",
       " 'Would',\n",
       " 'that',\n",
       " 'I',\n",
       " 'could',\n",
       " 'clear',\n",
       " 'out',\n",
       " 'Hampton',\n",
       " 'Court',\n",
       " 'and',\n",
       " 'the',\n",
       " 'Tuileries',\n",
       " 'for',\n",
       " 'ye',\n",
       " '!',\n",
       " 'But',\n",
       " 'gulp',\n",
       " 'down',\n",
       " 'your',\n",
       " 'tears',\n",
       " 'and',\n",
       " 'hie',\n",
       " 'aloft',\n",
       " 'to',\n",
       " 'the',\n",
       " 'royal',\n",
       " '-',\n",
       " 'mast',\n",
       " 'with',\n",
       " 'your',\n",
       " 'hearts',\n",
       " ';',\n",
       " 'for',\n",
       " 'your',\n",
       " 'friends',\n",
       " 'who',\n",
       " 'have',\n",
       " 'gone',\n",
       " 'before',\n",
       " 'are',\n",
       " 'clearing',\n",
       " 'out',\n",
       " 'the',\n",
       " 'seven',\n",
       " '-',\n",
       " 'storied',\n",
       " 'heavens',\n",
       " ',',\n",
       " 'and',\n",
       " 'making',\n",
       " 'refugees',\n",
       " 'of',\n",
       " 'long',\n",
       " '-',\n",
       " 'pampered',\n",
       " 'Gabriel',\n",
       " ',',\n",
       " 'Michael',\n",
       " ',',\n",
       " 'and',\n",
       " 'Raphael',\n",
       " ',',\n",
       " 'against',\n",
       " 'your',\n",
       " 'coming',\n",
       " '.',\n",
       " 'Here',\n",
       " 'ye',\n",
       " 'strike',\n",
       " 'but',\n",
       " 'splintered',\n",
       " 'hearts',\n",
       " 'together',\n",
       " '--',\n",
       " 'there',\n",
       " ',',\n",
       " 'ye',\n",
       " 'shall',\n",
       " 'strike',\n",
       " 'unsplinterable',\n",
       " 'glasses',\n",
       " '!',\n",
       " 'EXTRACTS',\n",
       " '.',\n",
       " '\"',\n",
       " 'And',\n",
       " 'God',\n",
       " 'created',\n",
       " 'great',\n",
       " 'whales',\n",
       " '.\"',\n",
       " '--',\n",
       " 'GENESIS',\n",
       " '.',\n",
       " '\"',\n",
       " 'Leviathan',\n",
       " 'maketh',\n",
       " 'a',\n",
       " 'path',\n",
       " 'to',\n",
       " 'shine',\n",
       " 'after',\n",
       " 'him',\n",
       " ';',\n",
       " 'One',\n",
       " 'would',\n",
       " 'think',\n",
       " 'the',\n",
       " 'deep',\n",
       " 'to',\n",
       " 'be',\n",
       " 'hoary',\n",
       " '.\"',\n",
       " '--',\n",
       " 'JOB',\n",
       " '.',\n",
       " '\"',\n",
       " 'Now',\n",
       " 'the',\n",
       " 'Lord',\n",
       " 'had',\n",
       " 'prepared',\n",
       " 'a',\n",
       " 'great',\n",
       " 'fish',\n",
       " 'to',\n",
       " 'swallow',\n",
       " 'up',\n",
       " 'Jonah',\n",
       " '.\"',\n",
       " '--',\n",
       " 'JONAH',\n",
       " '.',\n",
       " '\"',\n",
       " 'There',\n",
       " 'go',\n",
       " 'the',\n",
       " 'ships',\n",
       " ';',\n",
       " 'there',\n",
       " 'is',\n",
       " 'that',\n",
       " 'Leviathan',\n",
       " 'whom',\n",
       " 'thou',\n",
       " 'hast',\n",
       " 'made',\n",
       " 'to',\n",
       " 'play',\n",
       " 'therein',\n",
       " '.\"',\n",
       " '--',\n",
       " 'PSALMS',\n",
       " '.',\n",
       " '\"',\n",
       " 'In',\n",
       " 'that',\n",
       " 'day',\n",
       " ',',\n",
       " 'the',\n",
       " 'Lord',\n",
       " 'with',\n",
       " 'his',\n",
       " 'sore',\n",
       " ',',\n",
       " 'and',\n",
       " 'great',\n",
       " ',',\n",
       " 'and',\n",
       " 'strong',\n",
       " 'sword',\n",
       " ',',\n",
       " 'shall',\n",
       " 'punish',\n",
       " 'Leviathan',\n",
       " 'the',\n",
       " 'piercing',\n",
       " 'serpent',\n",
       " ',',\n",
       " 'even',\n",
       " 'Leviathan',\n",
       " 'that',\n",
       " 'crooked',\n",
       " 'serpent',\n",
       " ';',\n",
       " 'and',\n",
       " 'he',\n",
       " 'shall',\n",
       " 'slay',\n",
       " 'the',\n",
       " 'dragon',\n",
       " 'that',\n",
       " 'is',\n",
       " 'in',\n",
       " 'the',\n",
       " 'sea',\n",
       " '.\"',\n",
       " '--',\n",
       " 'ISAIAH',\n",
       " '\"',\n",
       " 'And',\n",
       " 'what',\n",
       " 'thing',\n",
       " 'soever',\n",
       " 'besides',\n",
       " 'cometh',\n",
       " 'within',\n",
       " 'the',\n",
       " 'chaos',\n",
       " 'of',\n",
       " 'this',\n",
       " 'monster',\n",
       " \"'\",\n",
       " 's',\n",
       " 'mouth',\n",
       " ',',\n",
       " 'be',\n",
       " 'it',\n",
       " 'beast',\n",
       " ',',\n",
       " 'boat',\n",
       " ',',\n",
       " 'or',\n",
       " 'stone',\n",
       " ',',\n",
       " 'down',\n",
       " 'it',\n",
       " 'goes',\n",
       " 'all',\n",
       " 'incontinently',\n",
       " 'that',\n",
       " 'foul',\n",
       " 'great',\n",
       " 'swallow',\n",
       " 'of',\n",
       " 'his',\n",
       " ',',\n",
       " 'and',\n",
       " 'perisheth',\n",
       " 'in',\n",
       " 'the',\n",
       " 'bottomless',\n",
       " 'gulf',\n",
       " 'of',\n",
       " 'his',\n",
       " 'paunch',\n",
       " '.\"',\n",
       " '--',\n",
       " 'HOLLAND',\n",
       " \"'\",\n",
       " 'S',\n",
       " 'PLUTARCH',\n",
       " \"'\",\n",
       " 'S',\n",
       " 'MORALS',\n",
       " '.',\n",
       " '\"',\n",
       " 'The',\n",
       " 'Indian',\n",
       " 'Sea',\n",
       " 'breedeth',\n",
       " 'the',\n",
       " 'most',\n",
       " 'and',\n",
       " 'the',\n",
       " 'biggest',\n",
       " 'fishes',\n",
       " 'that',\n",
       " 'are',\n",
       " ':',\n",
       " 'among',\n",
       " 'which',\n",
       " 'the',\n",
       " 'Whales',\n",
       " 'and',\n",
       " 'Whirlpooles',\n",
       " 'called',\n",
       " 'Balaene',\n",
       " ',',\n",
       " 'take',\n",
       " 'up',\n",
       " 'as',\n",
       " 'much',\n",
       " 'in',\n",
       " 'length',\n",
       " 'as',\n",
       " 'four',\n",
       " 'acres',\n",
       " 'or',\n",
       " 'arpens',\n",
       " 'of',\n",
       " 'land',\n",
       " '.\"',\n",
       " '--',\n",
       " 'HOLLAND',\n",
       " \"'\",\n",
       " 'S',\n",
       " 'PLINY',\n",
       " '.',\n",
       " '\"',\n",
       " 'Scarcely',\n",
       " 'had',\n",
       " 'we',\n",
       " 'proceeded',\n",
       " 'two',\n",
       " 'days',\n",
       " 'on',\n",
       " 'the',\n",
       " 'sea',\n",
       " ',',\n",
       " 'when',\n",
       " 'about',\n",
       " 'sunrise',\n",
       " 'a',\n",
       " 'great',\n",
       " 'many',\n",
       " 'Whales',\n",
       " 'and',\n",
       " 'other',\n",
       " 'monsters',\n",
       " 'of',\n",
       " 'the',\n",
       " 'sea',\n",
       " ',',\n",
       " 'appeared',\n",
       " '.',\n",
       " 'Among',\n",
       " 'the',\n",
       " 'former',\n",
       " ',',\n",
       " 'one',\n",
       " 'was',\n",
       " 'of',\n",
       " 'a',\n",
       " 'most',\n",
       " 'monstrous',\n",
       " 'size',\n",
       " '.',\n",
       " '...',\n",
       " 'This',\n",
       " 'came',\n",
       " 'towards',\n",
       " 'us',\n",
       " ',',\n",
       " 'open',\n",
       " '-',\n",
       " 'mouthed',\n",
       " ',',\n",
       " 'raising',\n",
       " 'the',\n",
       " 'waves',\n",
       " 'on',\n",
       " 'all',\n",
       " 'sides',\n",
       " ',',\n",
       " 'and',\n",
       " 'beating',\n",
       " 'the',\n",
       " 'sea',\n",
       " 'before',\n",
       " 'him',\n",
       " 'into',\n",
       " 'a',\n",
       " 'foam',\n",
       " '.\"',\n",
       " '--',\n",
       " 'TOOKE',\n",
       " \"'\",\n",
       " 'S',\n",
       " 'LUCIAN',\n",
       " '.',\n",
       " '\"',\n",
       " 'THE',\n",
       " 'TRUE',\n",
       " 'HISTORY',\n",
       " '.\"',\n",
       " '\"',\n",
       " 'He',\n",
       " 'visited',\n",
       " 'this',\n",
       " 'country',\n",
       " 'also',\n",
       " 'with',\n",
       " 'a',\n",
       " 'view',\n",
       " 'of',\n",
       " 'catching',\n",
       " 'horse',\n",
       " '-',\n",
       " 'whales',\n",
       " ',',\n",
       " 'which',\n",
       " 'had',\n",
       " 'bones',\n",
       " 'of',\n",
       " 'very',\n",
       " 'great',\n",
       " 'value',\n",
       " 'for',\n",
       " 'their',\n",
       " 'teeth',\n",
       " ',',\n",
       " 'of',\n",
       " 'which',\n",
       " 'he',\n",
       " 'brought',\n",
       " 'some',\n",
       " 'to',\n",
       " 'the',\n",
       " 'king',\n",
       " '.',\n",
       " '...',\n",
       " 'The',\n",
       " 'best',\n",
       " 'whales',\n",
       " 'were',\n",
       " 'catched',\n",
       " 'in',\n",
       " 'his',\n",
       " 'own',\n",
       " 'country',\n",
       " ',',\n",
       " 'of',\n",
       " 'which',\n",
       " 'some',\n",
       " 'were',\n",
       " 'forty',\n",
       " '-',\n",
       " 'eight',\n",
       " ',',\n",
       " 'some',\n",
       " 'fifty',\n",
       " 'yards',\n",
       " 'long',\n",
       " '.',\n",
       " 'He',\n",
       " ...]"
      ]
     },
     "execution_count": 26,
     "metadata": {},
     "output_type": "execute_result"
    }
   ],
   "source": [
    "moby.tokens # 모비딕의 단어들(tokens)에 접근"
   ]
  },
  {
   "cell_type": "markdown",
   "metadata": {},
   "source": [
    "#### +) 토큰?\n",
    "- 프로그래밍에서 정의하는 단어\n",
    "    - \"I'm a boy.\" i'm, i am, i 'm -> 토큰에서는 i'm이 여러가지 형태가 가능\n",
    "    -  다양한 가능성을 내가 정의할 수 있게 해놓은게 토큰\n",
    "    -  자연어를 처리할 때, 어떤 방식이 '이해가 더 잘될지/프로그래밍의 정확성을 높여줄지' 고민해서 나온 것"
   ]
  },
  {
   "cell_type": "code",
   "execution_count": 28,
   "metadata": {},
   "outputs": [
    {
     "data": {
      "text/plain": [
       "260819"
      ]
     },
     "execution_count": 28,
     "metadata": {},
     "output_type": "execute_result"
    }
   ],
   "source": [
    "# 총 길이 (단어 (수))\n",
    "len(moby.tokens)"
   ]
  },
  {
   "cell_type": "code",
   "execution_count": 29,
   "metadata": {
    "scrolled": true
   },
   "outputs": [
    {
     "data": {
      "text/plain": [
       "{'BROTHER',\n",
       " 'plane',\n",
       " 'hurricane',\n",
       " 'devoutly',\n",
       " 'scramble',\n",
       " 'tiled',\n",
       " 'raked',\n",
       " 'trotting',\n",
       " 'round',\n",
       " 'imperceptible',\n",
       " 'jet',\n",
       " 'gizzard',\n",
       " 'Around',\n",
       " 'generally',\n",
       " 'federated',\n",
       " 'descriptively',\n",
       " 'shrine',\n",
       " 'excessively',\n",
       " 'relying',\n",
       " 'minute',\n",
       " 'pilgrims',\n",
       " 'sleep',\n",
       " 'waxes',\n",
       " 'undigested',\n",
       " 'Sabbath',\n",
       " 'strictly',\n",
       " 'combining',\n",
       " 'cetacea',\n",
       " 'dogged',\n",
       " 'designates',\n",
       " 'de',\n",
       " 'craft',\n",
       " 'lookest',\n",
       " 'DANIEL',\n",
       " 'holds',\n",
       " 'patentee',\n",
       " 'encircling',\n",
       " 'drain',\n",
       " 'tows',\n",
       " 'zig',\n",
       " 'unremoved',\n",
       " 'sit',\n",
       " 'bowsman',\n",
       " 'Inn',\n",
       " 'shameful',\n",
       " '92',\n",
       " 'jumbled',\n",
       " 'favourites',\n",
       " 'sultanically',\n",
       " 'stead',\n",
       " 'necessities',\n",
       " 'mingling',\n",
       " 'fatter',\n",
       " 'crashing',\n",
       " 'willingness',\n",
       " 'Good',\n",
       " 'greenly',\n",
       " 'possessions',\n",
       " 'lexicon',\n",
       " 'cloaked',\n",
       " 'Derick',\n",
       " 'immense',\n",
       " 'accordingly',\n",
       " 'attending',\n",
       " 'endure',\n",
       " 'purposing',\n",
       " 'occupying',\n",
       " 'attitude',\n",
       " 'calves',\n",
       " 'imported',\n",
       " 'usurper',\n",
       " 'abide',\n",
       " 'flavor',\n",
       " 'untagging',\n",
       " 'trod',\n",
       " 'streaked',\n",
       " 'Peleg',\n",
       " 'reports',\n",
       " 'capitals',\n",
       " 'ribby',\n",
       " 'Fasting',\n",
       " 'butcher',\n",
       " 'resent',\n",
       " 'tells',\n",
       " 'coat',\n",
       " 'gales',\n",
       " 'leaking',\n",
       " 'cruellest',\n",
       " 'durst',\n",
       " 'gout',\n",
       " 'mass',\n",
       " 'misfortunes',\n",
       " 'bolt',\n",
       " 'Wapping',\n",
       " 'meant',\n",
       " 'mount',\n",
       " 'cherrying',\n",
       " 'dawn',\n",
       " 'northern',\n",
       " 'meaning',\n",
       " 'quitted',\n",
       " 'capsizings',\n",
       " 'reasonably',\n",
       " 'muster',\n",
       " 'knaves',\n",
       " 'hearthstone',\n",
       " 'recognised',\n",
       " 'approximate',\n",
       " 'bisons',\n",
       " 'stiffen',\n",
       " 'Roanoke',\n",
       " 'gave',\n",
       " 'disciples',\n",
       " 'absent',\n",
       " 'natives',\n",
       " 'oarsmen',\n",
       " 'Steel',\n",
       " 'pitchpoled',\n",
       " 'etherial',\n",
       " 'Mogul',\n",
       " 'inexperienced',\n",
       " 'limped',\n",
       " 'SHE',\n",
       " 'BOATS',\n",
       " 'congregate',\n",
       " 'Thus',\n",
       " 'FAERIE',\n",
       " 'Free',\n",
       " 'dent',\n",
       " 'cruiser',\n",
       " 'restore',\n",
       " 'impediments',\n",
       " 'voicelessly',\n",
       " 'merit',\n",
       " 'kink',\n",
       " 'Temple',\n",
       " 'Swaine',\n",
       " 'curves',\n",
       " 'dis',\n",
       " 'emigrant',\n",
       " 'amusing',\n",
       " 'That',\n",
       " 'reddened',\n",
       " 'cruisers',\n",
       " 'destined',\n",
       " 'dim',\n",
       " 'individuals',\n",
       " 'solely',\n",
       " 'pockets',\n",
       " 'Mote',\n",
       " 'openly',\n",
       " 'snortings',\n",
       " 'Logan',\n",
       " 'car',\n",
       " 'comprehensible',\n",
       " 'ones',\n",
       " 'lividly',\n",
       " 'opinions',\n",
       " 'contracts',\n",
       " 'innermost',\n",
       " 'sheaves',\n",
       " 'implicated',\n",
       " 'sides',\n",
       " 'Slip',\n",
       " 'advance',\n",
       " 'ball',\n",
       " 'plaits',\n",
       " 'despot',\n",
       " 'woven',\n",
       " 'anointing',\n",
       " 'basketed',\n",
       " 'Making',\n",
       " 'siding',\n",
       " 'Pippin',\n",
       " 'fairer',\n",
       " 'unlimited',\n",
       " 'depressions',\n",
       " 'on',\n",
       " 'repelling',\n",
       " 'shudderings',\n",
       " 'property',\n",
       " 'cap',\n",
       " 'flattering',\n",
       " 'heaved',\n",
       " 'announcement',\n",
       " 'legendary',\n",
       " 'serpentines',\n",
       " 'accosted',\n",
       " 'information',\n",
       " 'unscathed',\n",
       " 'mint',\n",
       " 'exchanging',\n",
       " 'notion',\n",
       " 'difficulty',\n",
       " 'inhaled',\n",
       " 'enthrone',\n",
       " 'lad',\n",
       " 'selectest',\n",
       " 'gleam',\n",
       " 'victor',\n",
       " 'whips',\n",
       " 'perturbation',\n",
       " 'immortal',\n",
       " 'Pizarro',\n",
       " 'crisis',\n",
       " 'oppose',\n",
       " 'relieving',\n",
       " 'Junk',\n",
       " 'AUGUST',\n",
       " 'akin',\n",
       " 'instead',\n",
       " 'Dough',\n",
       " 'adroit',\n",
       " 'gore',\n",
       " 'ribboned',\n",
       " 'rig',\n",
       " 'helmeted',\n",
       " 'backstay',\n",
       " 'unconquerable',\n",
       " 'recommended',\n",
       " 'flint',\n",
       " 'tissues',\n",
       " 'shafts',\n",
       " 'gudgeon',\n",
       " 'coronation',\n",
       " 'prosperous',\n",
       " 'museum',\n",
       " 'mobbing',\n",
       " 'indignations',\n",
       " 'unstricken',\n",
       " 'presentiment',\n",
       " 'oftenest',\n",
       " 'furlongs',\n",
       " 'cobs',\n",
       " 'cherry',\n",
       " 'Little',\n",
       " 'Hoot',\n",
       " 'rhyme',\n",
       " 'rostrated',\n",
       " 'bringing',\n",
       " 'misfortune',\n",
       " 'sullen',\n",
       " 'Latin',\n",
       " 'spotted',\n",
       " 'heartlessness',\n",
       " 'entrance',\n",
       " 'Whilst',\n",
       " 'together',\n",
       " 'mistake',\n",
       " 'diligent',\n",
       " 'sepulchral',\n",
       " 'mock',\n",
       " 'my',\n",
       " 'highway',\n",
       " 'dozen',\n",
       " 'wrath',\n",
       " 'irradiate',\n",
       " 'repute',\n",
       " 'HAND',\n",
       " 'decipher',\n",
       " 'breathe',\n",
       " 'PILOT',\n",
       " 'demonstrable',\n",
       " 'save',\n",
       " 'shiver',\n",
       " 'serving',\n",
       " 'crouch',\n",
       " 'nature',\n",
       " 'with',\n",
       " 'plunged',\n",
       " 'depicting',\n",
       " 'Started',\n",
       " 'suffice',\n",
       " 'mince',\n",
       " 'insanity',\n",
       " 'squitchy',\n",
       " 'Savage',\n",
       " 'darkness',\n",
       " 'balmy',\n",
       " 'unexempt',\n",
       " 'Carefully',\n",
       " 'whimsiness',\n",
       " 'justified',\n",
       " 'bump',\n",
       " 'jerked',\n",
       " 'whalebone',\n",
       " 'fetching',\n",
       " 'pleasant',\n",
       " 'cavern',\n",
       " 'redeeming',\n",
       " 'mole',\n",
       " 'Tranquo',\n",
       " 'chalices',\n",
       " 'incuriously',\n",
       " 'lord',\n",
       " 'Zoology',\n",
       " 'six',\n",
       " 'narwhale',\n",
       " 'squid',\n",
       " 'encouraged',\n",
       " 'confining',\n",
       " 'lieutenant',\n",
       " 'exhausted',\n",
       " 'steam',\n",
       " 'sulks',\n",
       " 'jub',\n",
       " 'bamboo',\n",
       " 'secludedness',\n",
       " 'Gayer',\n",
       " 'snaky',\n",
       " 'dismemberer',\n",
       " 'covered',\n",
       " 'hindmost',\n",
       " 'reach',\n",
       " 'plains',\n",
       " 'illustrative',\n",
       " 'filers',\n",
       " 'desiring',\n",
       " 'PREVIOUS',\n",
       " '122',\n",
       " 'wiseish',\n",
       " 'echoed',\n",
       " 'midway',\n",
       " 'worshippers',\n",
       " 'oneness',\n",
       " 'edged',\n",
       " 'disembowelled',\n",
       " 'lashed',\n",
       " 'Tongatobooarrs',\n",
       " 'springy',\n",
       " 'community',\n",
       " 'Hyena',\n",
       " 'kicks',\n",
       " 'framework',\n",
       " 'STEPS',\n",
       " 'ober',\n",
       " 'properties',\n",
       " 'agonizingly',\n",
       " 'HAWTHORNE',\n",
       " 'WAS',\n",
       " 'corn',\n",
       " 'beware',\n",
       " 'partook',\n",
       " 'grasps',\n",
       " 'rented',\n",
       " 'sipping',\n",
       " 'resting',\n",
       " 'dogging',\n",
       " 'tigress',\n",
       " 'chipped',\n",
       " 'gentlemen',\n",
       " 'MONTGOMERY',\n",
       " 'alter',\n",
       " 'expanses',\n",
       " 'upbraidings',\n",
       " 'leviathans',\n",
       " 'instincts',\n",
       " 'source',\n",
       " 'comforting',\n",
       " 'Shake',\n",
       " 'western',\n",
       " 'teeth',\n",
       " 'collateral',\n",
       " 'chasm',\n",
       " 'foam',\n",
       " 'inexorable',\n",
       " 'Killed',\n",
       " 'columns',\n",
       " 'kettles',\n",
       " 'journey',\n",
       " 'cling',\n",
       " 'junior',\n",
       " 'employed',\n",
       " 'jaws',\n",
       " 'moonlight',\n",
       " 'infesting',\n",
       " 'trading',\n",
       " 'Biographical',\n",
       " 'Castle',\n",
       " 'acts',\n",
       " 'sleek',\n",
       " 'banked',\n",
       " 'love',\n",
       " 'enriched',\n",
       " 'boilers',\n",
       " 'prematurely',\n",
       " 'sends',\n",
       " 'THESE',\n",
       " 'unwieldy',\n",
       " 'ruinous',\n",
       " 'furnished',\n",
       " 'error',\n",
       " 'Carrol',\n",
       " 'lens',\n",
       " 'wriggling',\n",
       " 'Thrasher',\n",
       " 'unwittingly',\n",
       " 'entrances',\n",
       " 'discriminating',\n",
       " 'rescued',\n",
       " 'innocent',\n",
       " 'inferred',\n",
       " 'winsome',\n",
       " 'acquiesced',\n",
       " 'Black',\n",
       " 'judges',\n",
       " 'charmingly',\n",
       " 'desperadoes',\n",
       " 'indecorous',\n",
       " 'sideways',\n",
       " 'confession',\n",
       " 'spent',\n",
       " 'strove',\n",
       " 'tugged',\n",
       " 'discharging',\n",
       " 'extent',\n",
       " 'examples',\n",
       " 'possibilities',\n",
       " 'gushing',\n",
       " 'Easy',\n",
       " 'gallantly',\n",
       " 'Mixed',\n",
       " 'early',\n",
       " 'intertwisting',\n",
       " 'son',\n",
       " 'continual',\n",
       " 'reverence',\n",
       " 'observest',\n",
       " 'curtains',\n",
       " 'fancying',\n",
       " 'mumblings',\n",
       " 'topsails',\n",
       " 'wails',\n",
       " 'Start',\n",
       " 'tags',\n",
       " 'tract',\n",
       " 'snare',\n",
       " 'Fashioned',\n",
       " 'enfoldings',\n",
       " 'scarry',\n",
       " 'malignity',\n",
       " 'becomes',\n",
       " 'convenient',\n",
       " 'speaks',\n",
       " 'controls',\n",
       " 'rubbed',\n",
       " 'Nimble',\n",
       " 'let',\n",
       " 'gentle',\n",
       " 'germs',\n",
       " 'rascal',\n",
       " 'enlightening',\n",
       " 'tinkling',\n",
       " 'newly',\n",
       " 'rail',\n",
       " 'tale',\n",
       " 'calmness',\n",
       " 'congenialities',\n",
       " 'person',\n",
       " 'pyramids',\n",
       " 'Gesner',\n",
       " 'matched',\n",
       " 'tulips',\n",
       " 'orchard',\n",
       " 'Fleece',\n",
       " 'isles',\n",
       " 'plant',\n",
       " 'arrives',\n",
       " 'too',\n",
       " 'capering',\n",
       " 'idiom',\n",
       " 'Sail',\n",
       " 'having',\n",
       " 'mode',\n",
       " 'freshening',\n",
       " 'virtuous',\n",
       " 'Egyptians',\n",
       " 'Be',\n",
       " 'ferocity',\n",
       " 'inkstand',\n",
       " 'peradventure',\n",
       " 'array',\n",
       " 'offence',\n",
       " 'ruminated',\n",
       " 'stupid',\n",
       " 'tempering',\n",
       " 'bubblingly',\n",
       " 'hearse',\n",
       " 'Apollo',\n",
       " 'narrating',\n",
       " 'seal',\n",
       " 'rest',\n",
       " 'engineering',\n",
       " 'misanthropic',\n",
       " 'unfinished',\n",
       " 'trick',\n",
       " 'fatness',\n",
       " 'amplified',\n",
       " 'fatally',\n",
       " 'sweatings',\n",
       " 'Ceylon',\n",
       " 'Availing',\n",
       " 'Sleeping',\n",
       " 'press',\n",
       " 'floats',\n",
       " 'tornado',\n",
       " 'tool',\n",
       " 'unprovided',\n",
       " 'Sphinx',\n",
       " 'crime',\n",
       " 'calling',\n",
       " 'Nay',\n",
       " 'injunctions',\n",
       " 'captured',\n",
       " 'lengthwise',\n",
       " 'Bedford',\n",
       " 'arid',\n",
       " '130',\n",
       " 'delightful',\n",
       " 'dexterities',\n",
       " 'carelessly',\n",
       " 'brace',\n",
       " 'wisdom',\n",
       " 'vague',\n",
       " 'disadvantage',\n",
       " 'Curious',\n",
       " 'uncorking',\n",
       " 'evade',\n",
       " 'facing',\n",
       " 'curious',\n",
       " 'workers',\n",
       " 'bowing',\n",
       " 'counted',\n",
       " 'unnearable',\n",
       " 'muttered',\n",
       " 'cabled',\n",
       " 'motives',\n",
       " 'whelm',\n",
       " 'systematically',\n",
       " 'DEAD',\n",
       " 'masks',\n",
       " 'lip',\n",
       " 'Inert',\n",
       " 'story',\n",
       " 'rounder',\n",
       " 'outreaching',\n",
       " 'Tistig',\n",
       " 'Albino',\n",
       " 'animal',\n",
       " 'blisteringly',\n",
       " 'plungings',\n",
       " 'men',\n",
       " 'faculties',\n",
       " 'Dan',\n",
       " 'primitively',\n",
       " 'malignantly',\n",
       " 'Coast',\n",
       " 'LIE',\n",
       " 'musically',\n",
       " 'brood',\n",
       " 'pickled',\n",
       " 'Matter',\n",
       " 'coincident',\n",
       " 'Shove',\n",
       " 'twilight',\n",
       " 'Bobbing',\n",
       " 'obstinately',\n",
       " 'according',\n",
       " 'orphans',\n",
       " 'barbs',\n",
       " 'vessel',\n",
       " 'nameless',\n",
       " 'starlight',\n",
       " 'Gallipagos',\n",
       " 'Eternity',\n",
       " 'FISHERMAN',\n",
       " 'THRASHER',\n",
       " 'innocency',\n",
       " 'Can',\n",
       " 'posse',\n",
       " 'withstanding',\n",
       " 'Unhinge',\n",
       " 'angularly',\n",
       " 'Abel',\n",
       " 'custom',\n",
       " 'passionate',\n",
       " 'monsieurs',\n",
       " 'assault',\n",
       " 'useful',\n",
       " 'methodically',\n",
       " 'seven',\n",
       " 'principle',\n",
       " 'widening',\n",
       " 'ATTITUDES',\n",
       " 'level',\n",
       " 'expanding',\n",
       " 'launchest',\n",
       " 'differ',\n",
       " 'uncheered',\n",
       " 'puffs',\n",
       " 'majesty',\n",
       " 'covering',\n",
       " 'cavalier',\n",
       " 'Persians',\n",
       " 'nearing',\n",
       " 'hereupon',\n",
       " 'odorous',\n",
       " 'obliquely',\n",
       " 'requirest',\n",
       " 'school',\n",
       " 'periods',\n",
       " 'entreaty',\n",
       " 'laughable',\n",
       " 'infidelities',\n",
       " 'indulged',\n",
       " 'closing',\n",
       " 'GATHERED',\n",
       " 'unbroken',\n",
       " 'snugly',\n",
       " 'onsets',\n",
       " 'lotus',\n",
       " 'Loomings',\n",
       " 'persisted',\n",
       " 'funereal',\n",
       " 'benefit',\n",
       " 'wore',\n",
       " 'Rokovoko',\n",
       " 'TWO',\n",
       " 'breeze',\n",
       " 'obedience',\n",
       " 'vindictiveness',\n",
       " 'PALEY',\n",
       " 'southward',\n",
       " 'maccaroni',\n",
       " 'duff',\n",
       " 'Skeleton',\n",
       " 'vaulted',\n",
       " '101',\n",
       " 'standpoint',\n",
       " 'rex',\n",
       " 'J',\n",
       " 'Littleton',\n",
       " 'complexion',\n",
       " 'squall',\n",
       " 'widowed',\n",
       " 'intensities',\n",
       " 'imbecility',\n",
       " 'unpitying',\n",
       " 'Abominable',\n",
       " 'splintering',\n",
       " 'Silently',\n",
       " 'butterless',\n",
       " 'swarmed',\n",
       " 'diddled',\n",
       " 'briefly',\n",
       " 'oiled',\n",
       " 'potatoes',\n",
       " 'orthodox',\n",
       " 'valvular',\n",
       " 'Arrayed',\n",
       " 'usually',\n",
       " 'bowl',\n",
       " 'Less',\n",
       " 'Butchers',\n",
       " 'expressions',\n",
       " 'Straightway',\n",
       " 'best',\n",
       " 'bottle',\n",
       " 'frequency',\n",
       " 'sketching',\n",
       " 'disaffection',\n",
       " 'chemistry',\n",
       " 'WITH',\n",
       " 'dictionary',\n",
       " 'dowers',\n",
       " 'diluvian',\n",
       " 'choked',\n",
       " 'August',\n",
       " 'BOUTON',\n",
       " 'elbow',\n",
       " 'monitions',\n",
       " 'provide',\n",
       " 'Hail',\n",
       " 'prescriptive',\n",
       " 'Paradise',\n",
       " 'circulars',\n",
       " 'tenpin',\n",
       " 'twitched',\n",
       " 'seasons',\n",
       " 'conducting',\n",
       " 'prostrate',\n",
       " 'dismembered',\n",
       " 'pointless',\n",
       " 'rickety',\n",
       " 'JONAH',\n",
       " 'LONG',\n",
       " 'exists',\n",
       " 'laureate',\n",
       " 'Apoplexy',\n",
       " 'name',\n",
       " 'candies',\n",
       " 'lot',\n",
       " 'ISLAND',\n",
       " 'Achilles',\n",
       " 'heedfully',\n",
       " 'Other',\n",
       " 'cord',\n",
       " 'slashing',\n",
       " 'bulb',\n",
       " 'rifled',\n",
       " 'brand',\n",
       " 'wrecks',\n",
       " 'affluent',\n",
       " 'suspiciously',\n",
       " 'watchmen',\n",
       " 'rounding',\n",
       " 'acute',\n",
       " 'shipping',\n",
       " 'passive',\n",
       " 'fossiliferous',\n",
       " 'backbones',\n",
       " 'System',\n",
       " 'breakfast',\n",
       " 'interrogatively',\n",
       " 'drove',\n",
       " 'quenchless',\n",
       " 'corpusants',\n",
       " 'primitive',\n",
       " 'SIZED',\n",
       " 'marshal',\n",
       " 'vum',\n",
       " 'presentations',\n",
       " 'waist',\n",
       " 'fighting',\n",
       " 'somnambulisms',\n",
       " 'descends',\n",
       " 'Passed',\n",
       " 'skewered',\n",
       " 'translated',\n",
       " 'reference',\n",
       " 'blankets',\n",
       " 'sharked',\n",
       " 'returns',\n",
       " 'retreats',\n",
       " 'tis',\n",
       " 'Malacca',\n",
       " 'WALLER',\n",
       " 'cupidity',\n",
       " 'alms',\n",
       " 'intolerably',\n",
       " 'simultaneous',\n",
       " 'Ka',\n",
       " 'Saturn',\n",
       " 'halloo',\n",
       " 'genealogies',\n",
       " 'directed',\n",
       " 'fifth',\n",
       " 'persuasions',\n",
       " 'Tut',\n",
       " 'bundling',\n",
       " 'remorselessly',\n",
       " 'SENATE',\n",
       " 'evolved',\n",
       " 'absolutely',\n",
       " 'doubtless',\n",
       " 'Cape',\n",
       " 'shocking',\n",
       " 'defiance',\n",
       " 'ROCKS',\n",
       " 'link',\n",
       " 'sinning',\n",
       " 'hip',\n",
       " 'Korah',\n",
       " 'Puritanic',\n",
       " 'leviathan',\n",
       " 'peril',\n",
       " 'Claus',\n",
       " 'Sag',\n",
       " 'boundless',\n",
       " 'naturae',\n",
       " 'stranded',\n",
       " 'cats',\n",
       " 'paramount',\n",
       " 'heedlessly',\n",
       " 'Turkey',\n",
       " 'reprehensible',\n",
       " '1820',\n",
       " 'frustrate',\n",
       " 'dip',\n",
       " 'Would',\n",
       " 'handspike',\n",
       " 'ploughed',\n",
       " 'nervousness',\n",
       " 'prominent',\n",
       " 'indolently',\n",
       " 'laughing',\n",
       " 'paints',\n",
       " 'allowed',\n",
       " 'bones',\n",
       " 'gobbles',\n",
       " 'viol',\n",
       " 'Clifford',\n",
       " 'roaring',\n",
       " 'prevailing',\n",
       " 'incredibly',\n",
       " 'blush',\n",
       " 'rejection',\n",
       " 'redeemed',\n",
       " 'hear',\n",
       " '3D',\n",
       " 'uncatastrophied',\n",
       " 'as',\n",
       " 'mask',\n",
       " 'jewelled',\n",
       " 'warned',\n",
       " 'mirrors',\n",
       " 'astonishing',\n",
       " 'Spurn',\n",
       " 'fishy',\n",
       " 'Palace',\n",
       " 'nut',\n",
       " 'archbishopric',\n",
       " 'plumbs',\n",
       " 'slight',\n",
       " 'eyes',\n",
       " 'sharply',\n",
       " 'rust',\n",
       " 'twigs',\n",
       " 'denunciations',\n",
       " 'leaf',\n",
       " 'Probably',\n",
       " 'justification',\n",
       " 'Enough',\n",
       " 'Loose',\n",
       " 'fanatics',\n",
       " 'tetering',\n",
       " 'depose',\n",
       " 'sacredness',\n",
       " 'right',\n",
       " 'grego',\n",
       " 'weaves',\n",
       " 'CROW',\n",
       " 'Dauphine',\n",
       " 'nine',\n",
       " 'likes',\n",
       " 'hunt',\n",
       " 'perchance',\n",
       " 'aft',\n",
       " 'defection',\n",
       " 'owe',\n",
       " 'Heading',\n",
       " 'screaming',\n",
       " 'number',\n",
       " 'finally',\n",
       " 'halyards',\n",
       " 'trencher',\n",
       " 'thirteenth',\n",
       " 'owners',\n",
       " 'inform',\n",
       " 'truthful',\n",
       " 'nick',\n",
       " 'sterned',\n",
       " 'Advocate',\n",
       " 'Quog',\n",
       " 'resumed',\n",
       " 'process',\n",
       " 'suppose',\n",
       " 'both',\n",
       " 'breeds',\n",
       " 'SNEEZING',\n",
       " 'effulgent',\n",
       " 'arrived',\n",
       " 'Stood',\n",
       " 'maintained',\n",
       " 'chested',\n",
       " 'impulsive',\n",
       " 'spit',\n",
       " 'subtler',\n",
       " 'passenger',\n",
       " 'passing',\n",
       " 'stalked',\n",
       " 'agony',\n",
       " 'advantages',\n",
       " 'unmitigated',\n",
       " 'immediate',\n",
       " 'scoured',\n",
       " 'scientific',\n",
       " 'reserve',\n",
       " 'artificialness',\n",
       " 'dearly',\n",
       " 'owner',\n",
       " 'cymballed',\n",
       " 'energies',\n",
       " 'pulpits',\n",
       " 'attained',\n",
       " 'prejudices',\n",
       " 'rudeness',\n",
       " 'occupant',\n",
       " 'horizontally',\n",
       " 'jurisdiction',\n",
       " 'run',\n",
       " 'iciness',\n",
       " 'helmet',\n",
       " 'Boy',\n",
       " 'obsolete',\n",
       " 'outstretching',\n",
       " 'restrained',\n",
       " '3',\n",
       " 'unintelligence',\n",
       " '125',\n",
       " 'prudential',\n",
       " 'marline',\n",
       " 'drenching',\n",
       " 'pronounced',\n",
       " 'soliloquized',\n",
       " 'lacks',\n",
       " 'prospect',\n",
       " 'shooting',\n",
       " 'mercy',\n",
       " 'pugnacious',\n",
       " 'ache',\n",
       " 'pudding',\n",
       " '23',\n",
       " 'slightly',\n",
       " 'historical',\n",
       " 'reported',\n",
       " 'But',\n",
       " 'revealing',\n",
       " 'plans',\n",
       " 'ruefully',\n",
       " 'code',\n",
       " 'hearth',\n",
       " 'Bays',\n",
       " 'punch',\n",
       " 'VISIT',\n",
       " 'Ray',\n",
       " 'palace',\n",
       " 'month',\n",
       " 'richly',\n",
       " 'exhumed',\n",
       " 'Persian',\n",
       " 'shining',\n",
       " 'skittishly',\n",
       " 'attic',\n",
       " 'burned',\n",
       " 'Entreaties',\n",
       " 'detected',\n",
       " 'hatchet',\n",
       " 'bethinking',\n",
       " 'obligations',\n",
       " 'steady',\n",
       " 'agent',\n",
       " 'abominated',\n",
       " 'government',\n",
       " 'mattrass',\n",
       " 'outer',\n",
       " 'less',\n",
       " 'cenotaphs',\n",
       " 'rug',\n",
       " 'TALES',\n",
       " 'houses',\n",
       " 'Plata',\n",
       " 'many',\n",
       " 'constituting',\n",
       " 'lurking',\n",
       " 'rustlings',\n",
       " 'profession',\n",
       " 'tall',\n",
       " 'flap',\n",
       " 'dig',\n",
       " 'brightness',\n",
       " 'peaked',\n",
       " 'fatality',\n",
       " 'fugitive',\n",
       " 'attract',\n",
       " 'doleful',\n",
       " 'fashion',\n",
       " 'feather',\n",
       " 'sound',\n",
       " 'Thy',\n",
       " 'thickness',\n",
       " 'slipt',\n",
       " 'embrace',\n",
       " 'triumph',\n",
       " 'IV',\n",
       " 'bounds',\n",
       " 'Erie',\n",
       " 'deafened',\n",
       " 'sed',\n",
       " 'dangerous',\n",
       " 'accommodation',\n",
       " 'LETTER',\n",
       " 'elsewhere',\n",
       " 'hung',\n",
       " 'squeeze',\n",
       " 'guarding',\n",
       " 'loathed',\n",
       " 'On',\n",
       " 'marshy',\n",
       " 'halting',\n",
       " ...}"
      ]
     },
     "execution_count": 29,
     "metadata": {},
     "output_type": "execute_result"
    }
   ],
   "source": [
    "# 중복되는 단어들을 걸러내자\n",
    "set(moby.tokens)"
   ]
  },
  {
   "cell_type": "markdown",
   "metadata": {},
   "source": [
    "- set\n",
    "    - {a, b, c, ...}\n",
    "    - 중복 불가능\n",
    "        => 중복 제거 함수로 사용 set()\n",
    "    - 순서 없음(슬라이싱 못함)\n",
    "- list\n",
    "    - [a, b, c, ...]\n",
    "    - 중복 가능\n",
    "    - 순서 있음"
   ]
  },
  {
   "cell_type": "code",
   "execution_count": 30,
   "metadata": {},
   "outputs": [
    {
     "data": {
      "text/plain": [
       "{'benz', 'kia', 'porsche'}"
      ]
     },
     "execution_count": 30,
     "metadata": {},
     "output_type": "execute_result"
    }
   ],
   "source": [
    "cars = ['kia', 'benz', 'porsche', 'kia']\n",
    "set(cars)"
   ]
  },
  {
   "cell_type": "code",
   "execution_count": 32,
   "metadata": {},
   "outputs": [
    {
     "data": {
      "text/plain": [
       "19317"
      ]
     },
     "execution_count": 32,
     "metadata": {},
     "output_type": "execute_result"
    }
   ],
   "source": [
    "# 중복 없는 단어 수\n",
    "len(set(moby.tokens))"
   ]
  },
  {
   "cell_type": "code",
   "execution_count": 33,
   "metadata": {},
   "outputs": [
    {
     "data": {
      "text/plain": [
       "0.07406285585022564"
      ]
     },
     "execution_count": 33,
     "metadata": {},
     "output_type": "execute_result"
    }
   ],
   "source": [
    "# lexical diversity\n",
    "len(set(moby.tokens)) / len(moby.tokens)"
   ]
  },
  {
   "cell_type": "code",
   "execution_count": 34,
   "metadata": {},
   "outputs": [
    {
     "data": {
      "text/plain": [
       "['porsche', 'kia', 'kia', 'benz']"
      ]
     },
     "execution_count": 34,
     "metadata": {},
     "output_type": "execute_result"
    }
   ],
   "source": [
    "# 오름차순, 내림차순 정렬\n",
    "sorted(cars, reverse=True)"
   ]
  },
  {
   "cell_type": "code",
   "execution_count": 35,
   "metadata": {},
   "outputs": [
    {
     "data": {
      "text/plain": [
       "['zoology',\n",
       " 'zones',\n",
       " 'zoned',\n",
       " 'zone',\n",
       " 'zodiac',\n",
       " 'zig',\n",
       " 'zephyr',\n",
       " 'zeal',\n",
       " 'zay',\n",
       " 'zag']"
      ]
     },
     "execution_count": 35,
     "metadata": {},
     "output_type": "execute_result"
    }
   ],
   "source": [
    "# mobydick 정렬하기\n",
    "sorted(set(moby.tokens), reverse=True)[:10] # 너무 많으니 꼭 슬라이싱!"
   ]
  },
  {
   "cell_type": "markdown",
   "metadata": {},
   "source": [
    "#### Quiz 1.\n",
    "- text9에서 lexical diversity 계산하기\n",
    "- text6에서 중복없는 셋 내림차순 정렬하기 \n",
    "    - a. 앞에서 단어 10개 추출하기 \n",
    "    - b. 조건문 연습: 'z'가 있으면 대문자로 바꾸기, 'z'가 없는데 4자 이상이면 끝 글자 대문자로 바꾸기"
   ]
  },
  {
   "cell_type": "code",
   "execution_count": 36,
   "metadata": {},
   "outputs": [],
   "source": [
    "# Quiz 1. text9 lexical diversity\n",
    "man_thurs = book.text9"
   ]
  },
  {
   "cell_type": "code",
   "execution_count": 37,
   "metadata": {},
   "outputs": [
    {
     "data": {
      "text/plain": [
       "69213"
      ]
     },
     "execution_count": 37,
     "metadata": {},
     "output_type": "execute_result"
    }
   ],
   "source": [
    "len(man_thurs.tokens)"
   ]
  },
  {
   "cell_type": "code",
   "execution_count": 38,
   "metadata": {},
   "outputs": [
    {
     "data": {
      "text/plain": [
       "6807"
      ]
     },
     "execution_count": 38,
     "metadata": {},
     "output_type": "execute_result"
    }
   ],
   "source": [
    "len(set(man_thurs.tokens))"
   ]
  },
  {
   "cell_type": "code",
   "execution_count": 14,
   "metadata": {},
   "outputs": [
    {
     "data": {
      "text/plain": [
       "0.0983485761345412"
      ]
     },
     "execution_count": 14,
     "metadata": {},
     "output_type": "execute_result"
    }
   ],
   "source": [
    "# lexical diversity\n",
    "len(set(man_thurs.tokens)) / len(man_thurs.tokens)"
   ]
  },
  {
   "cell_type": "code",
   "execution_count": 16,
   "metadata": {},
   "outputs": [],
   "source": [
    "# Quiz 1. text6 sort set\n",
    "monty = book.text6"
   ]
  },
  {
   "cell_type": "code",
   "execution_count": 21,
   "metadata": {},
   "outputs": [
    {
     "data": {
      "text/plain": [
       "['zoosh',\n",
       " 'zoop',\n",
       " 'zoo',\n",
       " 'zone',\n",
       " 'zhiv',\n",
       " 'yourself',\n",
       " 'yours',\n",
       " 'your',\n",
       " 'young',\n",
       " 'you']"
      ]
     },
     "execution_count": 21,
     "metadata": {},
     "output_type": "execute_result"
    }
   ],
   "source": [
    "sorted(set(monty.tokens), reverse=True)[:10]"
   ]
  },
  {
   "cell_type": "code",
   "execution_count": 35,
   "metadata": {},
   "outputs": [
    {
     "data": {
      "text/plain": [
       "['ZOOSH', 'ZOOP', 'ZOO', 'ZONE', 'ZHIV', 'yourselF', 'yourS', 'youR', 'younG']"
      ]
     },
     "execution_count": 35,
     "metadata": {},
     "output_type": "execute_result"
    }
   ],
   "source": [
    "descnd = sorted(set(monty.tokens), reverse=True)[:10]\n",
    "new_arr = []\n",
    "\n",
    "for elem in descnd:\n",
    "    if 'z' in elem:\n",
    "        new_arr.append(elem.upper())\n",
    "    elif len(elem) >= 4:\n",
    "        elem = elem[:-1] + elem[-1].upper()\n",
    "        new_arr.append(elem)\n",
    "\n",
    "new_arr"
   ]
  },
  {
   "cell_type": "markdown",
   "metadata": {},
   "source": [
    "#### Quiz 2. \n",
    "- 주민등록번호, 휴대폰 번호, 이메일 입력받는다.\n",
    "    - 주민번호, 휴대폰은 숫자만 입력 (- 없다)\n",
    "    - 이메일은 아이디만 입력 (@뒷부분 없음)\n",
    "\n",
    "- 출력: \n",
    "    - \"당신은 {}년 {}월 {}일 출생의 {남성/여성}입니다.\"\n",
    "    - 휴대폰번호: {} #하이픈으로 연결하기\n",
    "    - 이메일주소: {아이디}@gmail.com"
   ]
  },
  {
   "cell_type": "code",
   "execution_count": 3,
   "metadata": {},
   "outputs": [
    {
     "name": "stdin",
     "output_type": "stream",
     "text": [
      "주민등록번호를 입력하세요:  9907222222222\n",
      "휴대폰 번호를 입력하세요:  01028384959\n",
      "아이디를 입력하세요:  celinemad\n"
     ]
    }
   ],
   "source": [
    "res = input(\"주민등록번호를 입력하세요: \")\n",
    "phone = input(\"휴대폰 번호를 입력하세요: \")\n",
    "email_id = input(\"아이디를 입력하세요: \")\n",
    "\n",
    "if res[6] in ['0', '2', '4', '6', '8']:\n",
    "    sex = \"여성\"\n",
    "else: \n",
    "    sex = \"남성\"\n",
    "    \n",
    "    \n",
    "if res[6] in ['0', '9']:\n",
    "    year = '18'\n",
    "elif res[6] in ['1', '2', '5', '6']:\n",
    "    year = '19'\n",
    "else:\n",
    "    year = '20'"
   ]
  },
  {
   "cell_type": "code",
   "execution_count": 4,
   "metadata": {},
   "outputs": [
    {
     "name": "stdout",
     "output_type": "stream",
     "text": [
      "당신은 1999년 07월 22일 출생의 여성입니다.\n",
      "휴대폰번호: 010-2838-4959\n",
      "이메일주소: celinemad@gmail.com\n"
     ]
    }
   ],
   "source": [
    "print(f'당신은 {year + res[:2]}년 {res[2:4]}월 {res[4:6]}일 출생의 {sex}입니다.')\n",
    "print('휴대폰번호: ' + phone[:3] + '-' + phone[3:7] + '-' + phone[7:])\n",
    "print(f'이메일주소: {email_id}@gmail.com')"
   ]
  }
 ],
 "metadata": {
  "kernelspec": {
   "display_name": "Python 3",
   "language": "python",
   "name": "python3"
  },
  "language_info": {
   "codemirror_mode": {
    "name": "ipython",
    "version": 3
   },
   "file_extension": ".py",
   "mimetype": "text/x-python",
   "name": "python",
   "nbconvert_exporter": "python",
   "pygments_lexer": "ipython3",
   "version": "3.7.6"
  }
 },
 "nbformat": 4,
 "nbformat_minor": 4
}
