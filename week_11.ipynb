{
 "cells": [
  {
   "cell_type": "markdown",
   "metadata": {},
   "source": [
    "## Ch09. 함수 II\n",
    "### 9-1. asterisk (stars) *, **"
   ]
  },
  {
   "cell_type": "code",
   "execution_count": 2,
   "metadata": {},
   "outputs": [
    {
     "name": "stdout",
     "output_type": "stream",
     "text": [
      "('hey', 'hello', 'hi')\n"
     ]
    }
   ],
   "source": [
    "def print_arg(*args):\n",
    "    print(args)\n",
    "    \n",
    "print_arg('hey', 'hello', 'hi')"
   ]
  },
  {
   "cell_type": "code",
   "execution_count": 3,
   "metadata": {},
   "outputs": [
    {
     "name": "stdout",
     "output_type": "stream",
     "text": [
      "obligatory book\n",
      "1 2 3 4\n",
      "obligatory book\n",
      "(1, 2, 3, 4)\n",
      "obligatory book\n",
      "1 2 3 4\n"
     ]
    }
   ],
   "source": [
    "def print_arg2(name, *args):\n",
    "    print('obligatory', name)\n",
    "    print(*args)\n",
    "    \n",
    "print_arg2('book', 1, 2, 3, 4)\n",
    "nums = (1, 2, 3, 4)\n",
    "x = print_arg2('book', nums)\n",
    "y = print_arg2('book', *nums)"
   ]
  },
  {
   "cell_type": "markdown",
   "metadata": {},
   "source": [
    "*args : convention, 주로 이 용어로 사용"
   ]
  },
  {
   "cell_type": "markdown",
   "metadata": {},
   "source": [
    "#### <외부에서 활용하기>\n",
    "- 컬렉션 자료형 언패킹 출력 시\n",
    "- zip()\n",
    "- 키워드 전용 인수 선언\n",
    "    - 맨 뒤에 오는 매개변수들은 반드시 키워드 인수로 들어오도록 설정하는 역할\n",
    "    - kargs와 혼선을 빚지 않기 위해"
   ]
  },
  {
   "cell_type": "code",
   "execution_count": 4,
   "metadata": {},
   "outputs": [
    {
     "name": "stdout",
     "output_type": "stream",
     "text": [
      "0 1 2 3 4\n"
     ]
    }
   ],
   "source": [
    "nums = list(range(5))\n",
    "print(*nums)"
   ]
  },
  {
   "cell_type": "markdown",
   "metadata": {},
   "source": [
    "#### 1) 행렬, 테이블"
   ]
  },
  {
   "cell_type": "code",
   "execution_count": 5,
   "metadata": {},
   "outputs": [
    {
     "name": "stdout",
     "output_type": "stream",
     "text": [
      "(1, 3, 5)\n",
      "(2, 4, 6)\n"
     ]
    }
   ],
   "source": [
    "a = [\n",
    "    [1, 2],\n",
    "    [3, 4],\n",
    "    [5, 6]\n",
    "]\n",
    "\n",
    "# 1, 3, 5 / 2, 4, 6 (열을 순회하고 싶다)\n",
    "for row in zip(*a):\n",
    "    print(row)"
   ]
  },
  {
   "cell_type": "markdown",
   "metadata": {},
   "source": [
    "#### 2) 키워드 전용 인수(start, end)"
   ]
  },
  {
   "cell_type": "code",
   "execution_count": 6,
   "metadata": {},
   "outputs": [
    {
     "name": "stdout",
     "output_type": "stream",
     "text": [
      "1\n",
      "2\n"
     ]
    }
   ],
   "source": [
    "def print_data(data, *, start, end): # start, end -> start=0\n",
    "    for value in data[start:end]:\n",
    "        print(value)\n",
    "        \n",
    "print_data(nums, start=1, end=3)"
   ]
  },
  {
   "cell_type": "markdown",
   "metadata": {},
   "source": [
    "**"
   ]
  },
  {
   "cell_type": "markdown",
   "metadata": {},
   "source": [
    "#### 3) 딕셔너리"
   ]
  },
  {
   "cell_type": "code",
   "execution_count": 7,
   "metadata": {},
   "outputs": [
    {
     "name": "stdout",
     "output_type": "stream",
     "text": [
      "{'wine': 'merlot', 'dessert': 'cake'}\n",
      "merlot is semi-sweet\n"
     ]
    }
   ],
   "source": [
    "def print_kargs(**kargs): # 딕셔너리로 묶는 기능\n",
    "    print(kargs) # 언패킹 기능이 없기 때문에 print(**kargs)는 안됨\n",
    "    print(kargs['wine'], 'is semi-sweet') # get(key, default)\n",
    "    \n",
    "print_kargs(wine='merlot', dessert='cake')"
   ]
  },
  {
   "cell_type": "code",
   "execution_count": 8,
   "metadata": {},
   "outputs": [
    {
     "name": "stdout",
     "output_type": "stream",
     "text": [
      "{'wine': 'merlot', 'desser': 'scone'}\n",
      "merlot is semi-sweet\n",
      "{'wine': 'cabernet', 'desser': 'scone'}\n",
      "cabernet is semi-sweet\n",
      "{'wine': 'crianza', 'desser': 'scone'}\n",
      "crianza is semi-sweet\n"
     ]
    }
   ],
   "source": [
    "wine_list = 'merlot cabernet crianza'.split()\n",
    "for wine in wine_list:\n",
    "    print_kargs(wine=wine, desser='scone')"
   ]
  },
  {
   "cell_type": "code",
   "execution_count": 9,
   "metadata": {},
   "outputs": [
    {
     "name": "stdout",
     "output_type": "stream",
     "text": [
      "15\n",
      "{'first': 1, 'second': 2}\n"
     ]
    }
   ],
   "source": [
    "def print_both(one, two, *args, **kargs):\n",
    "    print(one + two + sum(args))\n",
    "    print(kargs)\n",
    "    \n",
    "print_both(1, 2, 3, 4, 5, first=1, second=2) # first-> one, second -> two로 쓰면 안됨(kargs와 혼선)"
   ]
  },
  {
   "cell_type": "markdown",
   "metadata": {},
   "source": [
    "#### 딕셔너리 결합할 때 사용할 수 있다 (python 3.5 이상)"
   ]
  },
  {
   "cell_type": "code",
   "execution_count": 10,
   "metadata": {},
   "outputs": [
    {
     "data": {
      "text/plain": [
       "{1: 'a', 2: 'c', 3: 'd'}"
      ]
     },
     "execution_count": 10,
     "metadata": {},
     "output_type": "execute_result"
    }
   ],
   "source": [
    "x = {1: 'a', 2: 'b'}\n",
    "y = {2: 'c', 3: 'd'}\n",
    "z = {**x, **y}\n",
    "z"
   ]
  },
  {
   "cell_type": "markdown",
   "metadata": {},
   "source": [
    "## Ch10. Object\n",
    "### 10-1. 일급객체\n",
    "- first class object / first class citizen\n",
    "- 함수도 객체다. \n",
    "- 한수의 인자로 전달 가능\n",
    "- 반환값이 될 수 있다.\n",
    "- 수정, 할당될 수 있다. "
   ]
  },
  {
   "cell_type": "code",
   "execution_count": 11,
   "metadata": {},
   "outputs": [
    {
     "name": "stdout",
     "output_type": "stream",
     "text": [
      "43\n",
      "43\n"
     ]
    }
   ],
   "source": [
    "def answer():\n",
    "    print(43)\n",
    "    \n",
    "def run_something(func):\n",
    "    func()\n",
    "    \n",
    "run_something(answer)\n",
    "\n",
    "def run_anything(func):\n",
    "    return func\n",
    "\n",
    "run_anything(answer)()"
   ]
  },
  {
   "cell_type": "code",
   "execution_count": 12,
   "metadata": {},
   "outputs": [
    {
     "data": {
      "text/plain": [
       "13"
      ]
     },
     "execution_count": 12,
     "metadata": {},
     "output_type": "execute_result"
    }
   ],
   "source": [
    "def sum_args(*args):\n",
    "    return sum(args)\n",
    "\n",
    "def run_with_positional_args(func, *args):\n",
    "    return func(*args)\n",
    "\n",
    "run_with_positional_args(sum_args, 1, 3, 4, 5)"
   ]
  },
  {
   "cell_type": "markdown",
   "metadata": {},
   "source": [
    "#### 가변 인자, 불변 인자 => 초기화하지 않으면 변수 내용이 변할 수 있음\n",
    "- 변할 수 있음을 문서화할 것. 혹을 다른 방법 찾아볼 것(copy/새로 리스트 생성)"
   ]
  },
  {
   "cell_type": "code",
   "execution_count": 13,
   "metadata": {},
   "outputs": [],
   "source": [
    "def func(num_list):\n",
    "    sum_num = sum(num_list)\n",
    "    num_list.append(sum_num)\n",
    "    \n",
    "a = [1, 3, 5]\n",
    "func(a)"
   ]
  },
  {
   "cell_type": "code",
   "execution_count": 14,
   "metadata": {},
   "outputs": [
    {
     "data": {
      "text/plain": [
       "[1, 3, 5, 9]"
      ]
     },
     "execution_count": 14,
     "metadata": {},
     "output_type": "execute_result"
    }
   ],
   "source": [
    "a"
   ]
  },
  {
   "cell_type": "code",
   "execution_count": 15,
   "metadata": {},
   "outputs": [],
   "source": [
    "func(a)"
   ]
  },
  {
   "cell_type": "code",
   "execution_count": 16,
   "metadata": {},
   "outputs": [
    {
     "data": {
      "text/plain": [
       "[1, 3, 5, 9, 18]"
      ]
     },
     "execution_count": 16,
     "metadata": {},
     "output_type": "execute_result"
    }
   ],
   "source": [
    "a"
   ]
  },
  {
   "cell_type": "markdown",
   "metadata": {},
   "source": [
    "### 10-2. 내부함수 (=> 다음주)"
   ]
  },
  {
   "cell_type": "markdown",
   "metadata": {},
   "source": [
    "### 10-3. 익명함수 (람다)\n",
    "- lambda\n",
    "- 함수인데 이름이 없음 (def, return)\n",
    "- 왜? 단순한 함수를 사용할 때 (like 한줄함수)\n",
    "- 단, 잦은 사용은 권장하지 않는다. => 직관적이지 않고 재활용 낮다(함수 이름이 없어서)\n",
    "- lambda x: <x를 요리할 코드>"
   ]
  },
  {
   "cell_type": "code",
   "execution_count": 17,
   "metadata": {},
   "outputs": [
    {
     "data": {
      "text/plain": [
       "'ok'"
      ]
     },
     "execution_count": 17,
     "metadata": {},
     "output_type": "execute_result"
    }
   ],
   "source": [
    "# lambda x: x.lower()\n",
    "\n",
    "def f(x):\n",
    "    return x.lower()\n",
    "\n",
    "f2 = lambda x: x.lower()\n",
    "f2('OK')"
   ]
  },
  {
   "cell_type": "code",
   "execution_count": 18,
   "metadata": {},
   "outputs": [
    {
     "data": {
      "text/plain": [
       "'ok'"
      ]
     },
     "execution_count": 18,
     "metadata": {},
     "output_type": "execute_result"
    }
   ],
   "source": [
    "(lambda x: x.lower())('OK')"
   ]
  },
  {
   "cell_type": "code",
   "execution_count": 19,
   "metadata": {},
   "outputs": [
    {
     "data": {
      "text/plain": [
       "10"
      ]
     },
     "execution_count": 19,
     "metadata": {},
     "output_type": "execute_result"
    }
   ],
   "source": [
    "f3 = lambda x, y: x + y\n",
    "f3(5, 5)"
   ]
  },
  {
   "cell_type": "code",
   "execution_count": 22,
   "metadata": {},
   "outputs": [
    {
     "data": {
      "text/plain": [
       "'Abc!'"
      ]
     },
     "execution_count": 22,
     "metadata": {},
     "output_type": "execute_result"
    }
   ],
   "source": [
    "# abc -> Abc!\n",
    "(lambda x:x.capitalize() + '!')('abc') # capitalize(), title()"
   ]
  }
 ],
 "metadata": {
  "kernelspec": {
   "display_name": "Python 3",
   "language": "python",
   "name": "python3"
  },
  "language_info": {
   "codemirror_mode": {
    "name": "ipython",
    "version": 3
   },
   "file_extension": ".py",
   "mimetype": "text/x-python",
   "name": "python",
   "nbconvert_exporter": "python",
   "pygments_lexer": "ipython3",
   "version": "3.7.6"
  }
 },
 "nbformat": 4,
 "nbformat_minor": 4
}
